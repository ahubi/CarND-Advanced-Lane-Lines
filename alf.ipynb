{
 "cells": [
  {
   "cell_type": "markdown",
   "metadata": {
    "deletable": true,
    "editable": true
   },
   "source": [
    "## Advanced Lane Finding Project\n",
    "\n",
    "The goals / steps of this project are the following:\n",
    "\n",
    "* Compute the camera calibration matrix and distortion coefficients given a set of chessboard images.\n",
    "* Apply a distortion correction to raw images.\n",
    "* Use color transforms, gradients, etc., to create a thresholded binary image.\n",
    "* Apply a perspective transform to rectify binary image (\"birds-eye view\").\n",
    "* Detect lane pixels and fit to find the lane boundary.\n",
    "* Determine the curvature of the lane and vehicle position with respect to center.\n",
    "* Warp the detected lane boundaries back onto the original image.\n",
    "* Output visual display of the lane boundaries and numerical estimation of lane curvature and vehicle position.\n",
    "\n",
    "---"
   ]
  },
  {
   "cell_type": "code",
   "execution_count": 1,
   "metadata": {
    "collapsed": false,
    "deletable": true,
    "editable": true
   },
   "outputs": [],
   "source": [
    "import numpy as np\n",
    "import cv2\n",
    "import glob\n",
    "import matplotlib.pyplot as plt\n",
    "import matplotlib.image as mpimg\n",
    "import os\n",
    "from moviepy.editor import VideoFileClip\n",
    "from IPython.display import HTML\n",
    "\n",
    "%matplotlib inline\n",
    "\n",
    "def store_image(img, img_dir, fname):\n",
    "    if not os.path.exists(img_dir):\n",
    "        os.makedirs(img_dir)\n",
    "    img_path = img_dir + fname.split('/')[-1]\n",
    "    #print(img_path)\n",
    "    cv2.imwrite(img_path, img)\n",
    "        \n",
    "def calibrate_camera():\n",
    "    # prepare object points, like (0,0,0), (1,0,0), (2,0,0) ....,(6,5,0)\n",
    "    objp = np.zeros((6*9,3), np.float32)\n",
    "    objp[:,:2] = np.mgrid[0:9,0:6].T.reshape(-1,2)\n",
    "\n",
    "    # Arrays to store object points and image points from all the images.\n",
    "    objpoints = [] # 3d points in real world space\n",
    "    imgpoints = [] # 2d points in image plane.\n",
    "\n",
    "    # Make a list of calibration images\n",
    "    images = glob.glob('camera_cal/calibration*.jpg')\n",
    "\n",
    "    # Step through the list and search for chessboard corners\n",
    "    for fname in images:\n",
    "        img = cv2.imread(fname)\n",
    "        gray = cv2.cvtColor(img,cv2.COLOR_BGR2GRAY)\n",
    "\n",
    "        # Find the chessboard corners\n",
    "        ret, corners = cv2.findChessboardCorners(gray, (9,6),None)\n",
    "\n",
    "        # If found, add object points, image points\n",
    "        if ret == True:\n",
    "            objpoints.append(objp)\n",
    "            imgpoints.append(corners)\n",
    "            # Draw and display the corners\n",
    "            img = cv2.drawChessboardCorners(img, (9,6), corners, ret)\n",
    "            #store every images with detected corners for post analyse and writeup\n",
    "            img_dir = 'output_images/chessboard_corners/'\n",
    "            img_path = img_dir + fname.split('/')[-1]\n",
    "            store_image(img, img_dir, img_path)\n",
    "    #calibrate camera with identified objpoints and imgpoints\n",
    "    img_size = (img.shape[1], img.shape[0])\n",
    "    return cv2.calibrateCamera(objpoints, imgpoints, img_size,None,None)\n",
    "\n",
    "# Edit this function to create your own pipeline.\n",
    "def pipeline(img, s_thresh=(170, 255), sx_thresh=(20, 100)):\n",
    "    img_copy = np.copy(img)\n",
    "    # Convert to HSV color space and separate the V channel\n",
    "    hsv = cv2.cvtColor(img_copy, cv2.COLOR_RGB2HLS).astype(np.float)\n",
    "    #hsv = cv2.cvtColor(img, cv2.COLOR_RGB2HSV).astype(np.float)\n",
    "    #l_channel = cv2.cvtColor(img, cv2.COLOR_BGR2GRAY) #hsv[:,:,1]\n",
    "    l_channel = hsv[:,:,1]\n",
    "    s_channel = hsv[:,:,2]\n",
    "    # Sobel x\n",
    "    sobelx = cv2.Sobel(l_channel, cv2.CV_64F, 1, 0) # Take the derivative in x\n",
    "    abs_sobelx = np.absolute(sobelx) # Absolute x derivative to accentuate lines away from horizontal\n",
    "    scaled_sobel = np.uint8(255*abs_sobelx/np.max(abs_sobelx))\n",
    "    \n",
    "    # Threshold x gradient\n",
    "    sxbinary = np.zeros_like(scaled_sobel)\n",
    "    sxbinary[(scaled_sobel >= sx_thresh[0]) & (scaled_sobel <= sx_thresh[1])] = 1\n",
    "    \n",
    "    # Threshold color channel\n",
    "    s_binary = np.zeros_like(s_channel)\n",
    "    s_binary[(s_channel >= s_thresh[0]) & (s_channel <= s_thresh[1])] = 1\n",
    "    # Stack each channel\n",
    "    # Note color_binary[:, :, 0] is all 0s, effectively an all black image. It might\n",
    "    # be beneficial to replace this channel with something else.\n",
    "    color_binary = np.dstack(( np.zeros_like(sxbinary), sxbinary, s_binary))\n",
    "    combined_binary = np.zeros_like(sxbinary)\n",
    "    combined_binary[(s_binary == 1) | (sxbinary == 1)] = 1\n",
    "    return combined_binary\n",
    "\n",
    "def warp(img,tobird=True):\n",
    "    corners = np.float32([[190,720],[590,460],[700,460],[1145,720]])\n",
    "    new_top_left=np.array([corners[0,0],0])\n",
    "    new_top_right=np.array([corners[3,0],0])\n",
    "    offset=[150,0]\n",
    "    \n",
    "    img_size = (img.shape[1], img.shape[0])\n",
    "    src = np.float32([corners[0],corners[1],corners[2],corners[3]])\n",
    "    dst = np.float32([corners[0]+offset,new_top_left+offset,new_top_right-offset ,corners[3]-offset])    \n",
    "    if tobird:\n",
    "        M = cv2.getPerspectiveTransform(src, dst)\n",
    "    else:\n",
    "        M = cv2.getPerspectiveTransform(dst,src)\n",
    "    warped = cv2.warpPerspective(img, M, img_size , flags=cv2.INTER_LINEAR)    \n",
    "    return warped\n",
    "\n",
    "def undistort(img):\n",
    "    return cv2.undistort(img, mtx, dist, None, mtx)\n",
    "\n",
    "def region_of_interest(img):\n",
    "    \"\"\"\n",
    "    Applies an image mask.\n",
    "    \n",
    "    Only keeps the region of the image defined by the polygon\n",
    "    formed from `vertices`. The rest of the image is set to black.\n",
    "    \"\"\"    \n",
    "    shape = img.shape\n",
    "    vertices = np.array([[(0,0),(shape[1],0),(shape[1],0),(6*shape[1]/7,shape[0]),\n",
    "                      (shape[1]/7,shape[0]), (0,0)]],dtype=np.int32)\n",
    "\n",
    "    mask = np.zeros_like(img)   \n",
    "    \n",
    "    #defining a 3 channel or 1 channel color to fill the mask with depending on the input image\n",
    "    if len(img.shape) > 2:\n",
    "        channel_count = img.shape[2]  # i.e. 3 or 4 depending on your image\n",
    "        ignore_mask_color = (255,) * channel_count\n",
    "    else:\n",
    "        ignore_mask_color = 255\n",
    "        \n",
    "    #filling pixels inside the polygon defined by \"vertices\" with the fill color    \n",
    "    cv2.fillPoly(mask, vertices, ignore_mask_color)\n",
    "    \n",
    "    #returning the image only where mask pixels are nonzero\n",
    "    masked_image = cv2.bitwise_and(img, mask)\n",
    "    return masked_image\n",
    "\n",
    "def draw_lines(img, vertices):\n",
    "    pts= np.int32([vertices])\n",
    "    cv2.polylines(img, pts, True, (255,0,0))    "
   ]
  },
  {
   "cell_type": "markdown",
   "metadata": {
    "deletable": true,
    "editable": true
   },
   "source": [
    "# Calibrate camera"
   ]
  },
  {
   "cell_type": "code",
   "execution_count": 2,
   "metadata": {
    "collapsed": true,
    "deletable": true,
    "editable": true
   },
   "outputs": [],
   "source": [
    "ret, mtx, dist, rvecs, tvecs = calibrate_camera()"
   ]
  },
  {
   "cell_type": "markdown",
   "metadata": {
    "deletable": true,
    "editable": true
   },
   "source": [
    "## Test pipeline on test images and store output"
   ]
  },
  {
   "cell_type": "code",
   "execution_count": 3,
   "metadata": {
    "collapsed": false,
    "deletable": true,
    "editable": true
   },
   "outputs": [
    {
     "data": {
      "text/plain": [
       "<matplotlib.text.Text at 0x7fe106b869b0>"
      ]
     },
     "execution_count": 3,
     "metadata": {},
     "output_type": "execute_result"
    },
    {
     "data": {
      "image/png": "[encoded data removed]",
      "text/plain": [
       "<matplotlib.figure.Figure at 0x7fe112934e48>"
      ]
     },
     "metadata": {},
     "output_type": "display_data"
    }
   ],
   "source": [
    "# Make a list of calibration images\n",
    "images = glob.glob('test_images/*.jpg')\n",
    "\n",
    "def preprocess_img(img):\n",
    "    undist_img = undistort(img)\n",
    "    binary_image = pipeline(undist_img)\n",
    "    transformed = warp(binary_image)\n",
    "    region_sel  = region_of_interest(transformed)\n",
    "    return region_sel\n",
    "\n",
    "# process test images\n",
    "for fname in images:\n",
    "    img = cv2.imread(fname)\n",
    "    undist_img = undistort(img)\n",
    "    #draw_lines(undist_img, src)\n",
    "    store_image(undist_img, 'output_images/undistorted/', fname)\n",
    "    binary_image = pipeline(undist_img)\n",
    "    store_image(binary_image*255, 'output_images/binary_images/', fname)\n",
    "    #transformed = transform(undist_img, src, dst)\n",
    "    transformed = warp(binary_image)\n",
    "    region_sel  = region_of_interest(transformed)\n",
    "    store_image(region_sel*255, 'output_images/transformed_images/', fname)\n",
    "\n",
    "plt.figure(figsize=(12, 7))\n",
    "plt.subplot(2, 2, 1)\n",
    "plt.imshow(img)\n",
    "plt.title(\"Original Image\")\n",
    "plt.subplot(2, 2, 2)\n",
    "plt.imshow(undist_img)\n",
    "plt.title(\"Undistorted Image\")\n",
    "#img = cv2.imread('test_images/test1.jpg')\n",
    "plt.subplot(2, 2, 3)\n",
    "plt.imshow(binary_image*255)\n",
    "plt.title(\"Binary Image\")\n",
    "plt.subplot(2, 2, 4)\n",
    "plt.imshow(transformed*255)\n",
    "plt.title(\"Transformed Image\")"
   ]
  },
  {
   "cell_type": "code",
   "execution_count": 4,
   "metadata": {
    "collapsed": false,
    "deletable": true,
    "editable": true
   },
   "outputs": [],
   "source": [
    "def slide_and_fitpoly(binary_warped, LL, RL, fname=None):\n",
    "    # Assuming you have created a warped binary image called \"binary_warped\"\n",
    "    # Take a histogram of the bottom half of the image\n",
    "    histogram = np.sum(binary_warped[int(binary_warped.shape[0]/2):,:], axis=0)\n",
    "\n",
    "    # Create an output image to draw on and  visualize the result\n",
    "    out_img = np.dstack((binary_warped, binary_warped, binary_warped))*255\n",
    "    # Find the peak of the left and right halves of the histogram\n",
    "    # These will be the starting point for the left and right lines\n",
    "    midpoint = np.int(histogram.shape[0]/2)\n",
    "    leftx_base = np.argmax(histogram[:midpoint])\n",
    "    rightx_base = np.argmax(histogram[midpoint:]) + midpoint\n",
    "\n",
    "    # Choose the number of sliding windows\n",
    "    nwindows = 9\n",
    "    # Set height of windows\n",
    "    window_height = np.int(binary_warped.shape[0]/nwindows)\n",
    "    # Identify the x and y positions of all nonzero pixels in the image\n",
    "    nonzero = binary_warped.nonzero()\n",
    "    nonzeroy = np.array(nonzero[0])\n",
    "    nonzerox = np.array(nonzero[1])\n",
    "    # Current positions to be updated for each window\n",
    "    leftx_current = leftx_base\n",
    "    rightx_current = rightx_base\n",
    "    # Set the width of the windows +/- margin\n",
    "    margin = 100\n",
    "    # Set minimum number of pixels found to recenter window\n",
    "    minpix = 50\n",
    "    # Create empty lists to receive left and right lane pixel indices\n",
    "    left_lane_inds = []\n",
    "    right_lane_inds = []\n",
    "\n",
    "    # Step through the windows one by one\n",
    "    for window in range(nwindows):\n",
    "        # Identify window boundaries in x and y (and right and left)\n",
    "        win_y_low = binary_warped.shape[0] - (window+1)*window_height\n",
    "        win_y_high = binary_warped.shape[0] - window*window_height\n",
    "        win_xleft_low = leftx_current - margin\n",
    "        win_xleft_high = leftx_current + margin\n",
    "        win_xright_low = rightx_current - margin\n",
    "        win_xright_high = rightx_current + margin\n",
    "        # Draw the windows on the visualization image\n",
    "        cv2.rectangle(out_img,(win_xleft_low,win_y_low),(win_xleft_high,win_y_high),(0,255,0), 2) \n",
    "        cv2.rectangle(out_img,(win_xright_low,win_y_low),(win_xright_high,win_y_high),(0,255,0), 2) \n",
    "        # Identify the nonzero pixels in x and y within the window\n",
    "        good_left_inds = ((nonzeroy >= win_y_low) & (nonzeroy < win_y_high) & (nonzerox >= win_xleft_low) & (nonzerox < win_xleft_high)).nonzero()[0]\n",
    "        good_right_inds = ((nonzeroy >= win_y_low) & (nonzeroy < win_y_high) & (nonzerox >= win_xright_low) & (nonzerox < win_xright_high)).nonzero()[0]\n",
    "        # Append these indices to the lists\n",
    "        left_lane_inds.append(good_left_inds)\n",
    "        right_lane_inds.append(good_right_inds)\n",
    "        # If you found > minpix pixels, recenter next window on their mean position\n",
    "        if len(good_left_inds) > minpix:\n",
    "            leftx_current = np.int(np.mean(nonzerox[good_left_inds]))\n",
    "        if len(good_right_inds) > minpix:        \n",
    "            rightx_current = np.int(np.mean(nonzerox[good_right_inds]))\n",
    "\n",
    "    # Concatenate the arrays of indices\n",
    "    left_lane_inds = np.concatenate(left_lane_inds)\n",
    "    right_lane_inds = np.concatenate(right_lane_inds)\n",
    "\n",
    "    # Extract left and right line pixel positions\n",
    "    leftx = nonzerox[left_lane_inds]\n",
    "    lefty = nonzeroy[left_lane_inds] \n",
    "    rightx = nonzerox[right_lane_inds]\n",
    "    righty = nonzeroy[right_lane_inds] \n",
    "\n",
    "    # Fit a second order polynomial to each\n",
    "    left_fit = np.polyfit(lefty, leftx, 2)\n",
    "    right_fit = np.polyfit(righty, rightx, 2)\n",
    "    \n",
    "    #plot\n",
    "    ploty = np.linspace(0, binary_warped.shape[0]-1, binary_warped.shape[0] )\n",
    "    left_fitx = left_fit[0]*ploty**2 + left_fit[1]*ploty + left_fit[2]\n",
    "    right_fitx = right_fit[0]*ploty**2 + right_fit[1]*ploty + right_fit[2]\n",
    "    \n",
    "    lr, rr = calculate_curverad(left_fitx, right_fitx, ploty)\n",
    "    lp = line_base_pos (left_fit, ploty)\n",
    "    rp = line_base_pos (right_fit, ploty)\n",
    "    \n",
    "    #accept only radius over 100m\n",
    "    if lr > 150 and lp < 2:\n",
    "        LL.detected = True\n",
    "        LL.recent_xfitted = left_fitx\n",
    "        LL.current_fit = left_fit\n",
    "        LL.radius_of_curvature = lr\n",
    "        LL.allx = leftx\n",
    "        LL.ally = lefty\n",
    "        LL.line_base_pos = lp\n",
    "    else:\n",
    "        print('New detection not meeting expectations ' + 'lr: ' , lr, 'lp: ', lp)\n",
    "    if rr > 150 and rp > 2 and rp < 2.5:\n",
    "        RL.detected = True\n",
    "        RL.recent_xfitted = right_fitx\n",
    "        RL.current_fit = right_fit\n",
    "        RL.radius_of_curvature = rr\n",
    "        RL.allx = rightx\n",
    "        RL.ally = righty\n",
    "        RL.line_base_pos = rp\n",
    "    else:\n",
    "        print('New detection not meeting expectations ' + 'rr: ' , rr, 'rp: ', rp)\n",
    "        \n",
    "    if(fname!=None):\n",
    "        out_img[nonzeroy[left_lane_inds], nonzerox[left_lane_inds]] = [255, 0, 0]\n",
    "        out_img[nonzeroy[right_lane_inds], nonzerox[right_lane_inds]] = [0, 0, 255]\n",
    "        plt.imshow(out_img)\n",
    "        plt.plot(left_fitx, ploty, color='yellow')\n",
    "        plt.plot(right_fitx, ploty, color='yellow')\n",
    "        plt.xlim(0, 1280)\n",
    "        plt.ylim(720, 0)\n",
    "        plt.savefig(fname)\n",
    "    \n",
    "    #return left_fitx, right_fitx, ploty\n",
    "\n",
    "#next frame fit poly\n",
    "def fitpoly_next(binary_warped, LL, RL):\n",
    "    # Assume you now have a new warped binary image \n",
    "    # from the next frame of video (also called \"binary_warped\")\n",
    "    # It's now much easier to find line pixels!\n",
    "    nonzero = binary_warped.nonzero()\n",
    "    nonzeroy = np.array(nonzero[0])\n",
    "    nonzerox = np.array(nonzero[1])\n",
    "    margin = 100\n",
    "    left_lane_inds = ((nonzerox > (LL.current_fit[0]*(nonzeroy**2) + LL.current_fit[1]*nonzeroy + LL.current_fit[2] - margin)) & (nonzerox < (LL.current_fit[0]*(nonzeroy**2) + LL.current_fit[1]*nonzeroy + LL.current_fit[2] + margin))) \n",
    "    right_lane_inds = ((nonzerox > (RL.current_fit[0]*(nonzeroy**2) + RL.current_fit[1]*nonzeroy + RL.current_fit[2] - margin)) & (nonzerox < (RL.current_fit[0]*(nonzeroy**2) + RL.current_fit[1]*nonzeroy + RL.current_fit[2] + margin)))  \n",
    "\n",
    "    # Again, extract left and right line pixel positions\n",
    "    leftx = nonzerox[left_lane_inds]\n",
    "    lefty = nonzeroy[left_lane_inds] \n",
    "    rightx = nonzerox[right_lane_inds]\n",
    "    righty = nonzeroy[right_lane_inds]\n",
    "    # Fit a second order polynomial to each\n",
    "    left_fit = np.polyfit(lefty, leftx, 2)\n",
    "    right_fit = np.polyfit(righty, rightx, 2)\n",
    "    # Generate x and y values for plotting\n",
    "    ploty = np.linspace(0, binary_warped.shape[0]-1, binary_warped.shape[0] )\n",
    "    left_fitx = left_fit[0]*ploty**2 + left_fit[1]*ploty + left_fit[2]\n",
    "    right_fitx = right_fit[0]*ploty**2 + right_fit[1]*ploty + right_fit[2]\n",
    "    \n",
    "    lr, rr = calculate_curverad(left_fitx, right_fitx, ploty)\n",
    "    lp = line_base_pos (left_fit, ploty)\n",
    "    rp = line_base_pos (right_fit, ploty)\n",
    "    \n",
    "    #accept only radius over 100m and left line position < 2 meters\n",
    "    if lr > 150 and lp < 2:\n",
    "        LL.detected = True\n",
    "        LL.recent_xfitted = left_fitx\n",
    "        LL.current_fit = left_fit\n",
    "        LL.radius_of_curvature = lr\n",
    "        LL.allx = leftx\n",
    "        LL.ally = lefty\n",
    "        LL.line_base_pos = lp\n",
    "    else: \n",
    "        LL.detected = False\n",
    "    #accept only radius over 100m and right line position > 2 meters\n",
    "    if rr > 150 and rp > 2 and rp < 2.5:\n",
    "        RL.detected = True\n",
    "        RL.recent_xfitted = right_fitx\n",
    "        RL.current_fit = right_fit\n",
    "        RL.radius_of_curvature = rr\n",
    "        RL.allx = rightx\n",
    "        RL.ally = righty\n",
    "        RL.line_base_pos = rp\n",
    "    else:\n",
    "        RL.detected = False\n",
    "    \n",
    "\n",
    "def calculate_curverad(leftx, rightx, ploty):\n",
    "    # Define conversions in x and y from pixels space to meters\n",
    "    y_eval = np.max(ploty)\n",
    "    ym_per_pix = 30/720 # meters per pixel in y dimension\n",
    "    xm_per_pix = 3.7/700 # meters per pixel in x dimension\n",
    "\n",
    "    # Fit new polynomials to x,y in world space\n",
    "    left_fit_cr = np.polyfit(ploty*ym_per_pix, leftx*xm_per_pix, 2)\n",
    "    right_fit_cr = np.polyfit(ploty*ym_per_pix, rightx*xm_per_pix, 2)\n",
    "    # Calculate the new radii of curvature\n",
    "    left_curverad = ((1 + (2*left_fit_cr[0]*y_eval*ym_per_pix + left_fit_cr[1])**2)**1.5) / np.absolute(2*left_fit_cr[0])\n",
    "    right_curverad = ((1 + (2*right_fit_cr[0]*y_eval*ym_per_pix + right_fit_cr[1])**2)**1.5) / np.absolute(2*right_fit_cr[0])\n",
    "    # Now our radius of curvature is in meters\n",
    "    #print('left:', left_curverad, 'm', 'right:', right_curverad, 'm')\n",
    "    return left_curverad, right_curverad\n",
    "\n",
    "def line_base_pos(current_fit, ploty):\n",
    "    y_eval = np.max(ploty)\n",
    "    center_pos = 640\n",
    "    line_pos = current_fit[0]*y_eval**2 + current_fit[1]*y_eval + current_fit[2]\n",
    "    line_base_pos = (line_pos - center_pos)*3.7/600.0 #3.7 meters is about 600 pixels in the x direction\n",
    "    \n",
    "    # avoid negative distances, which would be the case for left lane\n",
    "    # there is sure an more elegant way to handle this\n",
    "    if line_base_pos < 0:\n",
    "        line_base_pos *= (-1.0)\n",
    "        \n",
    "    return line_base_pos\n",
    "# Define a class to receive the characteristics of each line detection\n",
    "class Line():\n",
    "    def __init__(self):\n",
    "        # was the line detected in the last iteration?\n",
    "        self.detected = False  \n",
    "        # x values of the last n fits of the line\n",
    "        self.recent_xfitted = [] \n",
    "        #average x values of the fitted line over the last n iterations\n",
    "        self.bestx = None     \n",
    "        #polynomial coefficients averaged over the last n iterations\n",
    "        self.best_fit = None  \n",
    "        #polynomial coefficients for the most recent fit\n",
    "        self.current_fit = [np.array([False])]  \n",
    "        #radius of curvature of the line in some units\n",
    "        self.radius_of_curvature = None \n",
    "        #distance in meters of vehicle center from the line\n",
    "        self.line_base_pos = None \n",
    "        #difference in fit coefficients between last and new fits\n",
    "        self.diffs = np.array([0,0,0], dtype='float') \n",
    "        #x values for detected line pixels\n",
    "        self.allx = None  \n",
    "        #y values for detected line pixels\n",
    "        self.ally = None"
   ]
  },
  {
   "cell_type": "code",
   "execution_count": 5,
   "metadata": {
    "collapsed": false,
    "deletable": true,
    "editable": true
   },
   "outputs": [],
   "source": [
    "# Generate x and y values for plotting\n",
    "def draw_lane(undist, warped, LL, RL, fname=None):\n",
    "    # Create an image to draw the lines on\n",
    "    warp_zero = np.zeros_like(warped).astype(np.uint8)\n",
    "    color_warp = np.dstack((warp_zero, warp_zero, warp_zero))\n",
    "    ploty = np.linspace(0, warped.shape[0]-1, warped.shape[0] )\n",
    "    \n",
    "    # Recast the x and y points into usable format for cv2.fillPoly()\n",
    "    pts_left = np.array([np.transpose(np.vstack([LL.recent_xfitted, ploty]))])\n",
    "    pts_right = np.array([np.flipud(np.transpose(np.vstack([RL.recent_xfitted, ploty])))])\n",
    "    pts = np.hstack((pts_left, pts_right))\n",
    "\n",
    "    # Draw the lane onto the warped blank image\n",
    "    cv2.fillPoly(color_warp, np.int_([pts]), (0,255, 0))\n",
    "\n",
    "    # Warp the blank back to original image space using inverse perspective matrix (Minv)\n",
    "    newwarp = warp(color_warp, False) \n",
    "    # Combine the result with the original image\n",
    "    result = cv2.addWeighted(undist, 1, newwarp, 0.3, 0)\n",
    "    \n",
    "    #put radius info on image\n",
    "    color = (0,255,0)\n",
    "    position = (300,100)\n",
    "    font = cv2.FONT_HERSHEY_SIMPLEX\n",
    "    l = round(LL.radius_of_curvature, 2)\n",
    "    r = round(RL.radius_of_curvature, 2)\n",
    "    lp = round(LL.line_base_pos, 2)\n",
    "    rp = round(RL.line_base_pos, 2)\n",
    "    \n",
    "    if l < 100 or r < 100:\n",
    "        color = (255,0,0)\n",
    "        position = (300,200)\n",
    "        \n",
    "    str1 = str('left rad: ' + str(l) + ' m' + ' ' + 'right rad: ' + str(r) + ' m')\n",
    "    str2 = str('left dis: ' + str(lp) + ' m' + ' ' + 'right dis: ' + str(rp) + ' m')\n",
    "    \n",
    "    cv2.putText(result, str1, position, font, 1, color, 2, cv2.LINE_AA)\n",
    "    cv2.putText(result, str2, (300, 300), font, 1, color, 2, cv2.LINE_AA)\n",
    "    \n",
    "    if fname!=None:\n",
    "        plt.savefig(fname)\n",
    "    \n",
    "    return result"
   ]
  },
  {
   "cell_type": "code",
   "execution_count": 9,
   "metadata": {
    "collapsed": false,
    "deletable": true,
    "editable": true
   },
   "outputs": [
    {
     "data": {
      "image/png": "[encoded data removed]",
      "text/plain": [
       "<matplotlib.figure.Figure at 0x7fe105263128>"
      ]
     },
     "metadata": {},
     "output_type": "display_data"
    }
   ],
   "source": [
    "# process test images\n",
    "#for fname in images:\n",
    "global LL\n",
    "global RL\n",
    "img = cv2.imread('test_images/test6.jpg')\n",
    "undist = undistort(img)\n",
    "prep_img = preprocess_img(img)\n",
    "slide_and_fitpoly(prep_img, LL, RL, 'output_images/left_fitx_right_fitx.jpg')\n",
    "result = draw_lane(undist, prep_img, LL,  RL)\n",
    "plt.imshow(result)\n",
    "plt.savefig('output_images/test4_final_lane.jpg')       \n"
   ]
  },
  {
   "cell_type": "code",
   "execution_count": 7,
   "metadata": {
    "collapsed": false
   },
   "outputs": [],
   "source": [
    "def process_image(img):\n",
    "    global LL\n",
    "    global RL\n",
    "    undist = undistort(img)\n",
    "    prep_img = preprocess_img(img)\n",
    "    if LL.detected == False or RL.detected == False:\n",
    "        print('LL: ', LL.detected, 'RL: ', RL.detected, '-> start new detection cycle')\n",
    "        slide_and_fitpoly(prep_img, LL, RL)\n",
    "    else:\n",
    "        fitpoly_next(prep_img, LL, RL)\n",
    "    result = draw_lane(undist, prep_img, LL,  RL)\n",
    "    return result"
   ]
  },
  {
   "cell_type": "code",
   "execution_count": 10,
   "metadata": {
    "collapsed": false,
    "deletable": true,
    "editable": true
   },
   "outputs": [
    {
     "name": "stdout",
     "output_type": "stream",
     "text": [
      "LL:  False RL:  False -> start new detection cycle\n",
      "[MoviePy] >>>> Building video ./processed_challenge_video.mp4\n",
      "[MoviePy] Writing video ./processed_challenge_video.mp4\n"
     ]
    },
    {
     "name": "stderr",
     "output_type": "stream",
     "text": [
      "  5%|▍         | 23/485 [00:03<01:12,  6.34it/s]"
     ]
    },
    {
     "name": "stdout",
     "output_type": "stream",
     "text": [
      "LL:  False RL:  True -> start new detection cycle\n",
      "New detection not meeting expectations lr:  205.735661836 lp:  3.17996558554\n",
      "LL:  False RL:  True -> start new detection cycle\n",
      "New detection not meeting expectations lr:  218.660036223 lp:  3.22185136012\n"
     ]
    },
    {
     "name": "stderr",
     "output_type": "stream",
     "text": [
      "  5%|▌         | 25/485 [00:03<01:12,  6.38it/s]"
     ]
    },
    {
     "name": "stdout",
     "output_type": "stream",
     "text": [
      "LL:  False RL:  True -> start new detection cycle\n"
     ]
    },
    {
     "name": "stderr",
     "output_type": "stream",
     "text": [
      "  7%|▋         | 33/485 [00:05<01:10,  6.44it/s]"
     ]
    },
    {
     "name": "stdout",
     "output_type": "stream",
     "text": [
      "LL:  False RL:  True -> start new detection cycle\n"
     ]
    },
    {
     "name": "stderr",
     "output_type": "stream",
     "text": [
      "  8%|▊         | 39/485 [00:06<01:11,  6.25it/s]"
     ]
    },
    {
     "name": "stdout",
     "output_type": "stream",
     "text": [
      "LL:  False RL:  True -> start new detection cycle\n",
      "New detection not meeting expectations lr:  395.556864059 lp:  3.30112671743\n",
      "LL:  False RL:  True -> start new detection cycle\n",
      "New detection not meeting expectations lr:  473.503917453 lp:  3.34131355181\n"
     ]
    },
    {
     "name": "stderr",
     "output_type": "stream",
     "text": [
      "  8%|▊         | 41/485 [00:06<01:10,  6.32it/s]"
     ]
    },
    {
     "name": "stdout",
     "output_type": "stream",
     "text": [
      "LL:  False RL:  True -> start new detection cycle\n",
      "New detection not meeting expectations lr:  98.3142421855 lp:  1.23074498316\n",
      "LL:  False RL:  True -> start new detection cycle\n",
      "New detection not meeting expectations lr:  113.058029245 lp:  1.28701488697\n"
     ]
    },
    {
     "name": "stderr",
     "output_type": "stream",
     "text": [
      "\r",
      "  9%|▊         | 42/485 [00:06<01:10,  6.28it/s]"
     ]
    },
    {
     "name": "stdout",
     "output_type": "stream",
     "text": [
      "LL:  False RL:  True -> start new detection cycle\n",
      "New detection not meeting expectations lr:  404.144361758 lp:  3.25093626691\n",
      "New detection not meeting expectations rr:  1133.59272844 rp:  1.9945502335\n",
      "LL:  False RL:  True -> start new detection cycle\n",
      "New detection not meeting expectations lr:  106.152366685 lp:  1.43264977913\n",
      "New detection not meeting expectations rr:  9297.89777526 rp:  1.86081067755\n"
     ]
    },
    {
     "name": "stderr",
     "output_type": "stream",
     "text": [
      "  9%|▉         | 45/485 [00:07<01:13,  6.02it/s]"
     ]
    },
    {
     "name": "stdout",
     "output_type": "stream",
     "text": [
      "LL:  False RL:  True -> start new detection cycle\n",
      "New detection not meeting expectations lr:  112.772368875 lp:  1.50025087885\n",
      "New detection not meeting expectations rr:  226.120211401 rp:  1.73823061381\n",
      "LL:  False RL:  True -> start new detection cycle\n",
      "New detection not meeting expectations rr:  181.218913874 rp:  1.89477873565\n"
     ]
    },
    {
     "name": "stderr",
     "output_type": "stream",
     "text": [
      " 11%|█         | 51/485 [00:08<01:11,  6.09it/s]"
     ]
    },
    {
     "name": "stdout",
     "output_type": "stream",
     "text": [
      "LL:  True RL:  False -> start new detection cycle\n",
      "New detection not meeting expectations lr:  164.528973786 lp:  2.16538048581\n"
     ]
    },
    {
     "name": "stderr",
     "output_type": "stream",
     "text": [
      " 11%|█         | 54/485 [00:08<01:10,  6.15it/s]"
     ]
    },
    {
     "name": "stdout",
     "output_type": "stream",
     "text": [
      "LL:  False RL:  True -> start new detection cycle\n",
      "New detection not meeting expectations lr:  292.365478976 lp:  2.65624433561\n",
      "LL:  False RL:  True -> start new detection cycle\n",
      "New detection not meeting expectations lr:  362.83281231 lp:  2.7569520294\n",
      "New detection not meeting expectations rr:  186.927172741 rp:  1.71846617642\n"
     ]
    },
    {
     "name": "stderr",
     "output_type": "stream",
     "text": [
      "\r",
      " 11%|█▏        | 55/485 [00:08<01:11,  5.99it/s]"
     ]
    },
    {
     "name": "stdout",
     "output_type": "stream",
     "text": [
      "LL:  False RL:  True -> start new detection cycle\n",
      "New detection not meeting expectations lr:  511.825280956 lp:  2.84127479558\n",
      "New detection not meeting expectations rr:  131.747770488 rp:  2.45269061452\n",
      "LL:  False RL:  True -> start new detection cycle\n",
      "New detection not meeting expectations lr:  490.869466455 lp:  2.77980735072\n",
      "New detection not meeting expectations rr:  188.274948812 rp:  1.72263858223\n"
     ]
    },
    {
     "name": "stderr",
     "output_type": "stream",
     "text": [
      " 12%|█▏        | 57/485 [00:09<01:11,  5.96it/s]"
     ]
    },
    {
     "name": "stdout",
     "output_type": "stream",
     "text": [
      "LL:  False RL:  True -> start new detection cycle\n",
      "New detection not meeting expectations lr:  493.674868195 lp:  2.76576766039\n",
      "New detection not meeting expectations rr:  175.13144828 rp:  1.70766054684\n",
      "LL:  False RL:  True -> start new detection cycle\n",
      "New detection not meeting expectations lr:  327.813175069 lp:  2.50595094109\n",
      "New detection not meeting expectations rr:  168.590548918 rp:  1.69048168173\n"
     ]
    },
    {
     "name": "stderr",
     "output_type": "stream",
     "text": [
      " 12%|█▏        | 59/485 [00:09<01:11,  5.95it/s]"
     ]
    },
    {
     "name": "stdout",
     "output_type": "stream",
     "text": [
      "LL:  False RL:  True -> start new detection cycle\n",
      "New detection not meeting expectations rr:  177.235052706 rp:  1.64657290923\n"
     ]
    },
    {
     "name": "stderr",
     "output_type": "stream",
     "text": [
      " 13%|█▎        | 64/485 [00:10<01:13,  5.71it/s]"
     ]
    },
    {
     "name": "stdout",
     "output_type": "stream",
     "text": [
      "LL:  True RL:  False -> start new detection cycle\n",
      "New detection not meeting expectations rr:  116.037707978 rp:  2.17024944622\n"
     ]
    },
    {
     "name": "stderr",
     "output_type": "stream",
     "text": [
      "\r",
      " 13%|█▎        | 65/485 [00:10<01:23,  5.01it/s]"
     ]
    },
    {
     "name": "stdout",
     "output_type": "stream",
     "text": [
      "LL:  True RL:  False -> start new detection cycle\n",
      "New detection not meeting expectations lr:  313.601642273 lp:  2.261115332\n",
      "New detection not meeting expectations rr:  151.605801331 rp:  1.88850701094\n"
     ]
    },
    {
     "name": "stderr",
     "output_type": "stream",
     "text": [
      "\r",
      " 14%|█▎        | 66/485 [00:10<01:25,  4.90it/s]"
     ]
    },
    {
     "name": "stdout",
     "output_type": "stream",
     "text": [
      "LL:  True RL:  False -> start new detection cycle\n",
      "New detection not meeting expectations rr:  142.188516823 rp:  1.88886859975\n",
      "LL:  True RL:  False -> start new detection cycle\n",
      "New detection not meeting expectations rr:  121.300396868 rp:  2.00844313676\n"
     ]
    },
    {
     "name": "stderr",
     "output_type": "stream",
     "text": [
      " 14%|█▍        | 68/485 [00:11<01:17,  5.37it/s]"
     ]
    },
    {
     "name": "stdout",
     "output_type": "stream",
     "text": [
      "LL:  True RL:  False -> start new detection cycle\n",
      "New detection not meeting expectations rr:  138.93122823 rp:  1.88518380693\n",
      "LL:  True RL:  False -> start new detection cycle\n",
      "New detection not meeting expectations lr:  290.943409327 lp:  2.10910544141\n",
      "New detection not meeting expectations rr:  200.0112493 rp:  1.65323206181\n"
     ]
    },
    {
     "name": "stderr",
     "output_type": "stream",
     "text": [
      " 14%|█▍        | 70/485 [00:11<01:14,  5.59it/s]"
     ]
    },
    {
     "name": "stdout",
     "output_type": "stream",
     "text": [
      "LL:  True RL:  False -> start new detection cycle\n",
      "New detection not meeting expectations rr:  210.395112644 rp:  1.64633252825\n",
      "LL:  True RL:  False -> start new detection cycle\n",
      "New detection not meeting expectations lr:  341.760582006 lp:  2.11941342495\n",
      "New detection not meeting expectations rr:  218.683131577 rp:  1.6320343379\n"
     ]
    },
    {
     "name": "stderr",
     "output_type": "stream",
     "text": [
      " 15%|█▍        | 72/485 [00:11<01:12,  5.70it/s]"
     ]
    },
    {
     "name": "stdout",
     "output_type": "stream",
     "text": [
      "LL:  True RL:  False -> start new detection cycle\n",
      "New detection not meeting expectations lr:  419.235375104 lp:  2.17746078886\n",
      "New detection not meeting expectations rr:  224.733030488 rp:  1.62715466159\n",
      "LL:  True RL:  False -> start new detection cycle\n",
      "New detection not meeting expectations lr:  473.995792819 lp:  2.21612988162\n",
      "New detection not meeting expectations rr:  225.343066564 rp:  1.62465212349\n"
     ]
    },
    {
     "name": "stderr",
     "output_type": "stream",
     "text": [
      " 15%|█▌        | 75/485 [00:12<01:09,  5.86it/s]"
     ]
    },
    {
     "name": "stdout",
     "output_type": "stream",
     "text": [
      "LL:  True RL:  False -> start new detection cycle\n",
      "New detection not meeting expectations lr:  496.066659468 lp:  2.20939338137\n",
      "New detection not meeting expectations rr:  251.001527145 rp:  1.62786225\n",
      "LL:  True RL:  False -> start new detection cycle\n",
      "New detection not meeting expectations lr:  474.797063972 lp:  2.17293824895\n",
      "New detection not meeting expectations rr:  3489.40134896 rp:  1.52705461526\n"
     ]
    },
    {
     "name": "stderr",
     "output_type": "stream",
     "text": [
      "\r",
      " 16%|█▌        | 76/485 [00:12<01:09,  5.91it/s]"
     ]
    },
    {
     "name": "stdout",
     "output_type": "stream",
     "text": [
      "LL:  True RL:  False -> start new detection cycle\n",
      "New detection not meeting expectations lr:  472.495874135 lp:  2.16225831598\n",
      "New detection not meeting expectations rr:  204.993252121 rp:  1.6696180175\n",
      "LL:  True RL:  False -> start new detection cycle\n",
      "New detection not meeting expectations lr:  472.63601157 lp:  2.15558944554\n",
      "New detection not meeting expectations rr:  205.34404973 rp:  1.14611231193\n"
     ]
    },
    {
     "name": "stderr",
     "output_type": "stream",
     "text": [
      " 16%|█▌        | 78/485 [00:12<01:10,  5.81it/s]"
     ]
    },
    {
     "name": "stdout",
     "output_type": "stream",
     "text": [
      "LL:  True RL:  False -> start new detection cycle\n",
      "New detection not meeting expectations lr:  492.114637105 lp:  2.13571296689\n",
      "New detection not meeting expectations rr:  181.568930147 rp:  0.978615167281\n",
      "LL:  True RL:  False -> start new detection cycle\n",
      "New detection not meeting expectations lr:  458.793822137 lp:  2.11001926034\n",
      "New detection not meeting expectations rr:  254.367588858 rp:  1.63645202868\n"
     ]
    },
    {
     "name": "stderr",
     "output_type": "stream",
     "text": [
      " 16%|█▋        | 80/485 [00:13<01:11,  5.68it/s]"
     ]
    },
    {
     "name": "stdout",
     "output_type": "stream",
     "text": [
      "LL:  True RL:  False -> start new detection cycle\n",
      "New detection not meeting expectations lr:  526.244464689 lp:  2.14788584841\n",
      "New detection not meeting expectations rr:  257.336391048 rp:  1.64548248753\n"
     ]
    },
    {
     "name": "stderr",
     "output_type": "stream",
     "text": [
      "\r",
      " 17%|█▋        | 81/485 [00:13<01:19,  5.08it/s]"
     ]
    },
    {
     "name": "stdout",
     "output_type": "stream",
     "text": [
      "LL:  True RL:  False -> start new detection cycle\n",
      "New detection not meeting expectations lr:  468.191200599 lp:  2.10935579001\n",
      "New detection not meeting expectations rr:  219.669750256 rp:  1.25917371395\n"
     ]
    },
    {
     "name": "stderr",
     "output_type": "stream",
     "text": [
      "\r",
      " 17%|█▋        | 82/485 [00:13<01:21,  4.95it/s]"
     ]
    },
    {
     "name": "stdout",
     "output_type": "stream",
     "text": [
      "LL:  True RL:  False -> start new detection cycle\n",
      "New detection not meeting expectations lr:  586.936251578 lp:  2.15649817202\n",
      "New detection not meeting expectations rr:  275.868726759 rp:  1.68101675797\n",
      "LL:  True RL:  False -> start new detection cycle\n",
      "New detection not meeting expectations lr:  446.068193803 lp:  2.03128318102\n",
      "New detection not meeting expectations rr:  191.857992089 rp:  1.97550585621\n"
     ]
    },
    {
     "name": "stderr",
     "output_type": "stream",
     "text": [
      " 17%|█▋        | 84/485 [00:14<01:25,  4.70it/s]"
     ]
    },
    {
     "name": "stdout",
     "output_type": "stream",
     "text": [
      "LL:  True RL:  False -> start new detection cycle\n",
      "New detection not meeting expectations lr:  509.787899223 lp:  2.07936514546\n",
      "New detection not meeting expectations rr:  1318.84539646 rp:  1.94267271196\n",
      "LL:  True RL:  False -> start new detection cycle\n"
     ]
    },
    {
     "name": "stderr",
     "output_type": "stream",
     "text": [
      "\r",
      " 18%|█▊        | 85/485 [00:14<01:20,  4.98it/s]"
     ]
    },
    {
     "name": "stdout",
     "output_type": "stream",
     "text": [
      "New detection not meeting expectations lr:  494.296393758 lp:  2.07943540081\n",
      "New detection not meeting expectations rr:  482.217071353 rp:  1.80019821308\n",
      "LL:  True RL:  False -> start new detection cycle\n",
      "New detection not meeting expectations lr:  415.684552589 lp:  2.01916573089\n",
      "New detection not meeting expectations rr:  776.255518998 rp:  1.72225008853\n"
     ]
    },
    {
     "name": "stderr",
     "output_type": "stream",
     "text": [
      " 18%|█▊        | 87/485 [00:14<01:14,  5.33it/s]"
     ]
    },
    {
     "name": "stdout",
     "output_type": "stream",
     "text": [
      "LL:  True RL:  False -> start new detection cycle\n",
      "New detection not meeting expectations lr:  383.964512732 lp:  2.01320062799\n",
      "New detection not meeting expectations rr:  262.261958464 rp:  1.82438899738\n"
     ]
    },
    {
     "name": "stderr",
     "output_type": "stream",
     "text": [
      "\r",
      " 18%|█▊        | 88/485 [00:14<01:23,  4.77it/s]"
     ]
    },
    {
     "name": "stdout",
     "output_type": "stream",
     "text": [
      "LL:  True RL:  False -> start new detection cycle\n",
      "New detection not meeting expectations lr:  374.95897472 lp:  2.00947449052\n",
      "New detection not meeting expectations rr:  260.847496405 rp:  1.74424119512\n"
     ]
    },
    {
     "name": "stderr",
     "output_type": "stream",
     "text": [
      "\r",
      " 18%|█▊        | 89/485 [00:15<01:25,  4.64it/s]"
     ]
    },
    {
     "name": "stdout",
     "output_type": "stream",
     "text": [
      "LL:  True RL:  False -> start new detection cycle\n",
      "New detection not meeting expectations rr:  221.121885869 rp:  1.50425400196\n",
      "LL:  True RL:  False -> start new detection cycle\n",
      "New detection not meeting expectations rr:  276.82205753 rp:  1.49758535732\n"
     ]
    },
    {
     "name": "stderr",
     "output_type": "stream",
     "text": [
      " 19%|█▉        | 91/485 [00:15<01:21,  4.82it/s]"
     ]
    },
    {
     "name": "stdout",
     "output_type": "stream",
     "text": [
      "LL:  True RL:  False -> start new detection cycle\n",
      "New detection not meeting expectations rr:  167.563236032 rp:  1.20759467787\n",
      "LL:  True RL:  False -> start new detection cycle\n"
     ]
    },
    {
     "name": "stderr",
     "output_type": "stream",
     "text": [
      "\r",
      " 19%|█▉        | 92/485 [00:15<01:17,  5.04it/s]"
     ]
    },
    {
     "name": "stdout",
     "output_type": "stream",
     "text": [
      "New detection not meeting expectations rr:  171.455836513 rp:  1.07944812439\n",
      "LL:  True RL:  False -> start new detection cycle\n",
      "New detection not meeting expectations rr:  304.416516435 rp:  1.76682630426\n"
     ]
    },
    {
     "name": "stderr",
     "output_type": "stream",
     "text": [
      " 20%|█▉        | 95/485 [00:16<01:09,  5.64it/s]"
     ]
    },
    {
     "name": "stdout",
     "output_type": "stream",
     "text": [
      "LL:  True RL:  False -> start new detection cycle\n",
      "New detection not meeting expectations rr:  346.29250801 rp:  1.73817919543\n",
      "LL:  True RL:  False -> start new detection cycle\n",
      "New detection not meeting expectations rr:  307.892661436 rp:  1.76238553651\n"
     ]
    },
    {
     "name": "stderr",
     "output_type": "stream",
     "text": [
      "\r",
      " 20%|█▉        | 96/485 [00:16<01:18,  4.93it/s]"
     ]
    },
    {
     "name": "stdout",
     "output_type": "stream",
     "text": [
      "LL:  True RL:  False -> start new detection cycle\n",
      "New detection not meeting expectations rr:  411.956729578 rp:  1.73448455861\n",
      "LL:  True RL:  False -> start new detection cycle\n"
     ]
    },
    {
     "name": "stderr",
     "output_type": "stream",
     "text": [
      " 20%|██        | 98/485 [00:16<01:12,  5.33it/s]"
     ]
    },
    {
     "name": "stdout",
     "output_type": "stream",
     "text": [
      "New detection not meeting expectations lr:  127.660314238 lp:  1.42573614005\n",
      "New detection not meeting expectations rr:  253.412170725 rp:  1.77833476867\n",
      "LL:  True RL:  False -> start new detection cycle\n",
      "New detection not meeting expectations lr:  133.885263427 lp:  1.5546320342\n",
      "New detection not meeting expectations rr:  270.502881148 rp:  1.74079097609\n"
     ]
    },
    {
     "name": "stderr",
     "output_type": "stream",
     "text": [
      "\r",
      " 20%|██        | 99/485 [00:17<01:11,  5.39it/s]"
     ]
    },
    {
     "name": "stdout",
     "output_type": "stream",
     "text": [
      "LL:  True RL:  False -> start new detection cycle\n",
      "New detection not meeting expectations lr:  102.196783077 lp:  1.26895083387\n",
      "New detection not meeting expectations rr:  343.307030713 rp:  1.7050647328\n",
      "LL:  True RL:  False -> start new detection cycle\n",
      "New detection not meeting expectations lr:  110.248345186 lp:  1.36690002227\n",
      "New detection not meeting expectations rr:  284.336408561 rp:  1.72932467024\n"
     ]
    },
    {
     "name": "stderr",
     "output_type": "stream",
     "text": [
      " 21%|██        | 101/485 [00:17<01:09,  5.51it/s]"
     ]
    },
    {
     "name": "stdout",
     "output_type": "stream",
     "text": [
      "LL:  True RL:  False -> start new detection cycle\n",
      "New detection not meeting expectations lr:  143.305528695 lp:  1.64349112902\n",
      "New detection not meeting expectations rr:  303.652354485 rp:  1.74468726054\n"
     ]
    },
    {
     "name": "stderr",
     "output_type": "stream",
     "text": [
      "\r",
      " 21%|██        | 102/485 [00:17<01:17,  4.95it/s]"
     ]
    },
    {
     "name": "stdout",
     "output_type": "stream",
     "text": [
      "LL:  True RL:  False -> start new detection cycle\n",
      "New detection not meeting expectations lr:  136.911085817 lp:  1.62146374479\n",
      "New detection not meeting expectations rr:  327.349283419 rp:  1.7571053498\n"
     ]
    },
    {
     "name": "stderr",
     "output_type": "stream",
     "text": [
      " 21%|██▏       | 104/485 [00:17<01:11,  5.37it/s]"
     ]
    },
    {
     "name": "stdout",
     "output_type": "stream",
     "text": [
      "LL:  True RL:  False -> start new detection cycle\n",
      "New detection not meeting expectations lr:  131.425004184 lp:  1.60239392608\n",
      "New detection not meeting expectations rr:  304.807067604 rp:  1.79042146251\n",
      "LL:  True RL:  False -> start new detection cycle\n",
      "New detection not meeting expectations lr:  131.575352976 lp:  1.62089609417\n",
      "New detection not meeting expectations rr:  346.5592603 rp:  1.78918459295\n"
     ]
    },
    {
     "name": "stderr",
     "output_type": "stream",
     "text": [
      " 22%|██▏       | 106/485 [00:18<01:06,  5.70it/s]"
     ]
    },
    {
     "name": "stdout",
     "output_type": "stream",
     "text": [
      "LL:  True RL:  False -> start new detection cycle\n",
      "New detection not meeting expectations lr:  133.5810388 lp:  1.63392246909\n",
      "New detection not meeting expectations rr:  272.81596555 rp:  1.8771512535\n",
      "LL:  True RL:  False -> start new detection cycle\n",
      "New detection not meeting expectations lr:  136.053569139 lp:  1.66784199621\n",
      "New detection not meeting expectations rr:  263.373243837 rp:  1.88205163586\n"
     ]
    },
    {
     "name": "stderr",
     "output_type": "stream",
     "text": [
      " 22%|██▏       | 108/485 [00:18<01:04,  5.82it/s]"
     ]
    },
    {
     "name": "stdout",
     "output_type": "stream",
     "text": [
      "LL:  True RL:  False -> start new detection cycle\n",
      "New detection not meeting expectations rr:  1114.5549293 rp:  0.0317023735273\n",
      "LL:  True RL:  False -> start new detection cycle\n",
      "New detection not meeting expectations lr:  143.87960151 lp:  1.89075715746\n",
      "New detection not meeting expectations rr:  266.966190631 rp:  1.84661754557\n"
     ]
    },
    {
     "name": "stderr",
     "output_type": "stream",
     "text": [
      " 23%|██▎       | 110/485 [00:19<01:03,  5.90it/s]"
     ]
    },
    {
     "name": "stdout",
     "output_type": "stream",
     "text": [
      "LL:  True RL:  False -> start new detection cycle\n",
      "New detection not meeting expectations lr:  126.573318801 lp:  1.78130932345\n",
      "New detection not meeting expectations rr:  298.725461166 rp:  1.80111975352\n",
      "LL:  True RL:  False -> start new detection cycle\n",
      "New detection not meeting expectations lr:  130.764566602 lp:  1.85798314163\n",
      "New detection not meeting expectations rr:  245.29066914 rp:  1.83940552525\n"
     ]
    },
    {
     "name": "stderr",
     "output_type": "stream",
     "text": [
      "\r",
      " 23%|██▎       | 111/485 [00:19<01:04,  5.79it/s]"
     ]
    },
    {
     "name": "stdout",
     "output_type": "stream",
     "text": [
      "LL:  True RL:  False -> start new detection cycle\n",
      "New detection not meeting expectations lr:  114.686989011 lp:  1.82877857295\n",
      "New detection not meeting expectations rr:  223.158025909 rp:  1.84624900929\n",
      "LL:  True RL:  False -> start new detection cycle\n",
      "New detection not meeting expectations lr:  97.1469587292 lp:  1.83811994983\n",
      "New detection not meeting expectations rr:  202.558800985 rp:  1.85995201348\n"
     ]
    },
    {
     "name": "stderr",
     "output_type": "stream",
     "text": [
      " 23%|██▎       | 113/485 [00:19<01:03,  5.85it/s]"
     ]
    },
    {
     "name": "stdout",
     "output_type": "stream",
     "text": [
      "LL:  True RL:  False -> start new detection cycle\n",
      "New detection not meeting expectations lr:  67.4788184127 lp:  1.55357414409\n",
      "New detection not meeting expectations rr:  398.756268468 rp:  1.65840002536\n",
      "LL:  True RL:  False -> start new detection cycle\n",
      "New detection not meeting expectations lr:  68.4201715422 lp:  1.53912681425\n",
      "New detection not meeting expectations rr:  207.403000654 rp:  1.85398084824\n"
     ]
    },
    {
     "name": "stderr",
     "output_type": "stream",
     "text": [
      " 24%|██▎       | 115/485 [00:19<01:01,  5.97it/s]"
     ]
    },
    {
     "name": "stdout",
     "output_type": "stream",
     "text": [
      "LL:  True RL:  False -> start new detection cycle\n",
      "New detection not meeting expectations lr:  105.098657819 lp:  1.87076909465\n",
      "New detection not meeting expectations rr:  258.23862846 rp:  1.83157513346\n",
      "LL:  True RL:  False -> start new detection cycle\n",
      "New detection not meeting expectations lr:  96.0765326797 lp:  1.88668947118\n",
      "New detection not meeting expectations rr:  257.684747185 rp:  1.8517105404\n"
     ]
    },
    {
     "name": "stderr",
     "output_type": "stream",
     "text": [
      " 24%|██▍       | 117/485 [00:20<01:09,  5.30it/s]"
     ]
    },
    {
     "name": "stdout",
     "output_type": "stream",
     "text": [
      "LL:  True RL:  False -> start new detection cycle\n",
      "New detection not meeting expectations lr:  46.6264451834 lp:  1.37859919095\n",
      "New detection not meeting expectations rr:  404.191490358 rp:  1.79240780234\n",
      "LL:  True RL:  False -> start new detection cycle\n",
      "New detection not meeting expectations lr:  42.905359483 lp:  1.43624796429\n",
      "New detection not meeting expectations rr:  453.9251411 rp:  1.83843443277\n"
     ]
    },
    {
     "name": "stderr",
     "output_type": "stream",
     "text": [
      " 25%|██▍       | 120/485 [00:20<01:01,  5.89it/s]"
     ]
    },
    {
     "name": "stdout",
     "output_type": "stream",
     "text": [
      "LL:  True RL:  False -> start new detection cycle\n",
      "New detection not meeting expectations lr:  56.2913128649 lp:  1.63166761608\n",
      "New detection not meeting expectations rr:  906.814742533 rp:  1.93733107509\n",
      "LL:  True RL:  False -> start new detection cycle\n",
      "New detection not meeting expectations lr:  357.204081198 lp:  2.05006019753\n"
     ]
    },
    {
     "name": "stderr",
     "output_type": "stream",
     "text": [
      " 25%|██▌       | 123/485 [00:21<00:59,  6.04it/s]"
     ]
    },
    {
     "name": "stdout",
     "output_type": "stream",
     "text": [
      "LL:  True RL:  False -> start new detection cycle\n",
      "New detection not meeting expectations lr:  112.535101221 lp:  1.90681699245\n",
      "New detection not meeting expectations rr:  190.459786736 rp:  2.57757971452\n",
      "LL:  True RL:  False -> start new detection cycle\n",
      "New detection not meeting expectations lr:  55.3968973871 lp:  1.70547347439\n"
     ]
    },
    {
     "name": "stderr",
     "output_type": "stream",
     "text": [
      " 26%|██▌       | 125/485 [00:21<01:07,  5.37it/s]"
     ]
    },
    {
     "name": "stdout",
     "output_type": "stream",
     "text": [
      "LL:  False RL:  True -> start new detection cycle\n"
     ]
    },
    {
     "name": "stderr",
     "output_type": "stream",
     "text": [
      " 26%|██▋       | 128/485 [00:22<01:03,  5.61it/s]"
     ]
    },
    {
     "name": "stdout",
     "output_type": "stream",
     "text": [
      "LL:  True RL:  False -> start new detection cycle\n",
      "New detection not meeting expectations rr:  718.39553813 rp:  1.84030809902\n",
      "LL:  True RL:  False -> start new detection cycle\n",
      "New detection not meeting expectations rr:  462.072171422 rp:  1.8212073072\n"
     ]
    },
    {
     "name": "stderr",
     "output_type": "stream",
     "text": [
      "\r",
      " 27%|██▋       | 129/485 [00:22<01:01,  5.77it/s]"
     ]
    },
    {
     "name": "stdout",
     "output_type": "stream",
     "text": [
      "LL:  True RL:  False -> start new detection cycle\n",
      "New detection not meeting expectations rr:  494.916786376 rp:  1.81927665194\n",
      "LL:  True RL:  False -> start new detection cycle\n",
      "New detection not meeting expectations rr:  486.87155123 rp:  1.81511654765\n"
     ]
    },
    {
     "name": "stderr",
     "output_type": "stream",
     "text": [
      " 27%|██▋       | 131/485 [00:22<01:01,  5.72it/s]"
     ]
    },
    {
     "name": "stdout",
     "output_type": "stream",
     "text": [
      "LL:  True RL:  False -> start new detection cycle\n",
      "New detection not meeting expectations rr:  459.064567025 rp:  1.8029785071\n",
      "LL:  True RL:  False -> start new detection cycle\n",
      "New detection not meeting expectations rr:  511.137641433 rp:  0.243712766722\n"
     ]
    },
    {
     "name": "stderr",
     "output_type": "stream",
     "text": [
      " 28%|██▊       | 134/485 [00:23<01:00,  5.80it/s]"
     ]
    },
    {
     "name": "stdout",
     "output_type": "stream",
     "text": [
      "LL:  True RL:  False -> start new detection cycle\n",
      "New detection not meeting expectations rr:  380.001707866 rp:  0.359857723438\n",
      "LL:  True RL:  False -> start new detection cycle\n",
      "New detection not meeting expectations lr:  4.77506408346 lp:  2.12958791377\n",
      "New detection not meeting expectations rr:  496.678578168 rp:  0.232312499111\n"
     ]
    },
    {
     "name": "stderr",
     "output_type": "stream",
     "text": [
      " 28%|██▊       | 136/485 [00:23<00:58,  5.95it/s]"
     ]
    },
    {
     "name": "stdout",
     "output_type": "stream",
     "text": [
      "LL:  True RL:  False -> start new detection cycle\n",
      "New detection not meeting expectations lr:  4.57754512401 lp:  2.81536193204\n",
      "New detection not meeting expectations rr:  339.82280471 rp:  0.43286754092\n",
      "LL:  True RL:  False -> start new detection cycle\n",
      "New detection not meeting expectations lr:  2.5727621854 lp:  2.44269158047\n",
      "New detection not meeting expectations rr:  331.516277307 rp:  0.416612056954\n"
     ]
    },
    {
     "name": "stderr",
     "output_type": "stream",
     "text": [
      "\r",
      " 28%|██▊       | 137/485 [00:23<01:00,  5.80it/s]"
     ]
    },
    {
     "name": "stdout",
     "output_type": "stream",
     "text": [
      "LL:  True RL:  False -> start new detection cycle\n",
      "New detection not meeting expectations lr:  3.42140173252 lp:  2.35154921805\n",
      "New detection not meeting expectations rr:  379.458757359 rp:  0.343040191807\n",
      "LL:  True RL:  False -> start new detection cycle\n",
      "New detection not meeting expectations lr:  7.15517919954 lp:  2.43948370061\n",
      "New detection not meeting expectations rr:  462.19954287 rp:  0.249088345588\n"
     ]
    },
    {
     "name": "stderr",
     "output_type": "stream",
     "text": [
      " 29%|██▊       | 139/485 [00:24<01:08,  5.06it/s]"
     ]
    },
    {
     "name": "stdout",
     "output_type": "stream",
     "text": [
      "LL:  True RL:  False -> start new detection cycle\n",
      "New detection not meeting expectations lr:  13.1806641025 lp:  2.46495223809\n",
      "New detection not meeting expectations rr:  481.199569519 rp:  0.229844742012\n"
     ]
    },
    {
     "name": "stderr",
     "output_type": "stream",
     "text": [
      "\r",
      " 29%|██▉       | 140/485 [00:24<01:07,  5.12it/s]"
     ]
    },
    {
     "name": "stdout",
     "output_type": "stream",
     "text": [
      "LL:  True RL:  False -> start new detection cycle\n",
      "New detection not meeting expectations lr:  842.985373619 lp:  2.19829608446\n",
      "New detection not meeting expectations rr:  315.044180842 rp:  1.8961396649\n",
      "LL:  True RL:  False -> start new detection cycle\n",
      "New detection not meeting expectations rr:  448.428376867 rp:  0.240047550309\n"
     ]
    },
    {
     "name": "stderr",
     "output_type": "stream",
     "text": [
      " 29%|██▉       | 142/485 [00:24<01:04,  5.30it/s]"
     ]
    },
    {
     "name": "stdout",
     "output_type": "stream",
     "text": [
      "LL:  True RL:  False -> start new detection cycle\n",
      "New detection not meeting expectations rr:  411.395675782 rp:  0.241679458204\n",
      "LL:  True RL:  False -> start new detection cycle\n",
      "New detection not meeting expectations rr:  350.953474442 rp:  1.81608397729\n"
     ]
    },
    {
     "name": "stderr",
     "output_type": "stream",
     "text": [
      " 30%|██▉       | 144/485 [00:25<01:07,  5.02it/s]"
     ]
    },
    {
     "name": "stdout",
     "output_type": "stream",
     "text": [
      "LL:  True RL:  False -> start new detection cycle\n",
      "New detection not meeting expectations rr:  383.937348034 rp:  1.79968352837\n"
     ]
    },
    {
     "name": "stderr",
     "output_type": "stream",
     "text": [
      "\r",
      " 30%|██▉       | 145/485 [00:25<01:11,  4.77it/s]"
     ]
    },
    {
     "name": "stdout",
     "output_type": "stream",
     "text": [
      "LL:  True RL:  False -> start new detection cycle\n",
      "New detection not meeting expectations rr:  388.852498883 rp:  1.76189693386\n"
     ]
    },
    {
     "name": "stderr",
     "output_type": "stream",
     "text": [
      "\r",
      " 30%|███       | 146/485 [00:25<01:08,  4.94it/s]"
     ]
    },
    {
     "name": "stdout",
     "output_type": "stream",
     "text": [
      "LL:  True RL:  False -> start new detection cycle\n",
      "New detection not meeting expectations lr:  1096.789658 lp:  2.14451389978\n",
      "New detection not meeting expectations rr:  489.167619165 rp:  1.75573241023\n",
      "LL:  True RL:  False -> start new detection cycle\n",
      "New detection not meeting expectations lr:  1425.68352655 lp:  2.1904850609\n",
      "New detection not meeting expectations rr:  481.211818695 rp:  0.222018170273\n"
     ]
    },
    {
     "name": "stderr",
     "output_type": "stream",
     "text": [
      " 31%|███       | 148/485 [00:25<01:03,  5.33it/s]"
     ]
    },
    {
     "name": "stdout",
     "output_type": "stream",
     "text": [
      "LL:  True RL:  False -> start new detection cycle\n",
      "New detection not meeting expectations lr:  1902.4334989 lp:  2.23024255136\n",
      "New detection not meeting expectations rr:  489.267760455 rp:  0.214368881519\n",
      "LL:  True RL:  False -> start new detection cycle\n",
      "New detection not meeting expectations lr:  1292.72703333 lp:  2.16466332606\n",
      "New detection not meeting expectations rr:  492.87630113 rp:  0.19754954807\n"
     ]
    },
    {
     "name": "stderr",
     "output_type": "stream",
     "text": [
      " 31%|███       | 150/485 [00:26<00:59,  5.60it/s]"
     ]
    },
    {
     "name": "stdout",
     "output_type": "stream",
     "text": [
      "LL:  True RL:  False -> start new detection cycle\n",
      "New detection not meeting expectations lr:  1447.9369357 lp:  2.15400780227\n",
      "New detection not meeting expectations rr:  526.312047747 rp:  0.180362286489\n",
      "LL:  True RL:  False -> start new detection cycle\n",
      "New detection not meeting expectations lr:  1419.6571343 lp:  2.12121431937\n",
      "New detection not meeting expectations rr:  475.713845177 rp:  0.188682300184\n"
     ]
    },
    {
     "name": "stderr",
     "output_type": "stream",
     "text": [
      " 31%|███▏      | 152/485 [00:26<00:59,  5.64it/s]"
     ]
    },
    {
     "name": "stdout",
     "output_type": "stream",
     "text": [
      "LL:  True RL:  False -> start new detection cycle\n",
      "New detection not meeting expectations lr:  1214.28880483 lp:  2.08254732301\n",
      "New detection not meeting expectations rr:  539.464062009 rp:  0.149375227761\n",
      "LL:  True RL:  False -> start new detection cycle\n",
      "New detection not meeting expectations lr:  920.148337143 lp:  2.00936178642\n",
      "New detection not meeting expectations rr:  320.79058194 rp:  1.85793541478\n"
     ]
    },
    {
     "name": "stderr",
     "output_type": "stream",
     "text": [
      " 32%|███▏      | 154/485 [00:26<00:57,  5.73it/s]"
     ]
    },
    {
     "name": "stdout",
     "output_type": "stream",
     "text": [
      "LL:  True RL:  False -> start new detection cycle\n",
      "New detection not meeting expectations rr:  612.997954763 rp:  0.120291711737\n"
     ]
    },
    {
     "name": "stderr",
     "output_type": "stream",
     "text": [
      "\r",
      " 32%|███▏      | 155/485 [00:27<01:06,  4.99it/s]"
     ]
    },
    {
     "name": "stdout",
     "output_type": "stream",
     "text": [
      "LL:  True RL:  False -> start new detection cycle\n",
      "New detection not meeting expectations rr:  644.302547278 rp:  0.118213949847\n"
     ]
    },
    {
     "name": "stderr",
     "output_type": "stream",
     "text": [
      "\r",
      " 32%|███▏      | 156/485 [00:27<01:08,  4.77it/s]"
     ]
    },
    {
     "name": "stdout",
     "output_type": "stream",
     "text": [
      "LL:  True RL:  False -> start new detection cycle\n",
      "New detection not meeting expectations rr:  402.139666426 rp:  1.81525293238\n",
      "LL:  True RL:  False -> start new detection cycle\n"
     ]
    },
    {
     "name": "stderr",
     "output_type": "stream",
     "text": [
      "\r",
      " 32%|███▏      | 157/485 [00:27<01:05,  5.00it/s]"
     ]
    },
    {
     "name": "stdout",
     "output_type": "stream",
     "text": [
      "New detection not meeting expectations rr:  454.504934246 rp:  1.80489232484\n",
      "LL:  True RL:  False -> start new detection cycle\n",
      "New detection not meeting expectations rr:  405.086704215 rp:  1.81450780827\n"
     ]
    },
    {
     "name": "stderr",
     "output_type": "stream",
     "text": [
      " 33%|███▎      | 159/485 [00:27<01:02,  5.23it/s]"
     ]
    },
    {
     "name": "stdout",
     "output_type": "stream",
     "text": [
      "LL:  True RL:  False -> start new detection cycle\n",
      "New detection not meeting expectations rr:  714.73389184 rp:  0.10950079284\n",
      "LL:  True RL:  False -> start new detection cycle\n",
      "New detection not meeting expectations rr:  695.512584291 rp:  0.109631198357\n"
     ]
    },
    {
     "name": "stderr",
     "output_type": "stream",
     "text": [
      " 33%|███▎      | 161/485 [00:28<00:59,  5.49it/s]"
     ]
    },
    {
     "name": "stdout",
     "output_type": "stream",
     "text": [
      "LL:  True RL:  False -> start new detection cycle\n",
      "New detection not meeting expectations rr:  754.995134395 rp:  0.1005825433\n",
      "LL:  True RL:  False -> start new detection cycle\n",
      "New detection not meeting expectations rr:  337.38876338 rp:  1.87486188917\n"
     ]
    },
    {
     "name": "stderr",
     "output_type": "stream",
     "text": [
      " 34%|███▎      | 163/485 [00:28<00:56,  5.74it/s]"
     ]
    },
    {
     "name": "stdout",
     "output_type": "stream",
     "text": [
      "LL:  True RL:  False -> start new detection cycle\n",
      "New detection not meeting expectations rr:  317.700363233 rp:  1.86256076439\n",
      "LL:  True RL:  False -> start new detection cycle\n",
      "New detection not meeting expectations rr:  359.897730982 rp:  1.82441667516\n"
     ]
    },
    {
     "name": "stderr",
     "output_type": "stream",
     "text": [
      " 34%|███▍      | 165/485 [00:28<00:56,  5.71it/s]"
     ]
    },
    {
     "name": "stdout",
     "output_type": "stream",
     "text": [
      "LL:  True RL:  False -> start new detection cycle\n",
      "New detection not meeting expectations rr:  360.60605077 rp:  1.80454563607\n",
      "LL:  True RL:  False -> start new detection cycle\n"
     ]
    },
    {
     "name": "stderr",
     "output_type": "stream",
     "text": [
      "\r",
      " 34%|███▍      | 166/485 [00:29<00:57,  5.57it/s]"
     ]
    },
    {
     "name": "stdout",
     "output_type": "stream",
     "text": [
      "New detection not meeting expectations rr:  360.264235194 rp:  1.80514737092\n"
     ]
    },
    {
     "name": "stderr",
     "output_type": "stream",
     "text": [
      "\r",
      " 34%|███▍      | 167/485 [00:29<01:04,  4.90it/s]"
     ]
    },
    {
     "name": "stdout",
     "output_type": "stream",
     "text": [
      "LL:  True RL:  False -> start new detection cycle\n",
      "New detection not meeting expectations rr:  381.913500402 rp:  1.78615701218\n"
     ]
    },
    {
     "name": "stderr",
     "output_type": "stream",
     "text": [
      "\r",
      " 35%|███▍      | 168/485 [00:29<01:08,  4.62it/s]"
     ]
    },
    {
     "name": "stdout",
     "output_type": "stream",
     "text": [
      "LL:  True RL:  False -> start new detection cycle\n",
      "New detection not meeting expectations rr:  1140.06936797 rp:  1.70249298339\n",
      "LL:  True RL:  False -> start new detection cycle\n"
     ]
    },
    {
     "name": "stderr",
     "output_type": "stream",
     "text": [
      "\r",
      " 35%|███▍      | 169/485 [00:29<01:04,  4.92it/s]"
     ]
    },
    {
     "name": "stdout",
     "output_type": "stream",
     "text": [
      "New detection not meeting expectations rr:  441.600036281 rp:  1.74950922935\n",
      "LL:  True RL:  False -> start new detection cycle\n"
     ]
    },
    {
     "name": "stderr",
     "output_type": "stream",
     "text": [
      "\r",
      " 35%|███▌      | 170/485 [00:30<01:06,  4.74it/s]"
     ]
    },
    {
     "name": "stdout",
     "output_type": "stream",
     "text": [
      "New detection not meeting expectations rr:  346.982344303 rp:  1.77864661801\n"
     ]
    },
    {
     "name": "stderr",
     "output_type": "stream",
     "text": [
      "\r",
      " 35%|███▌      | 171/485 [00:30<01:08,  4.58it/s]"
     ]
    },
    {
     "name": "stdout",
     "output_type": "stream",
     "text": [
      "LL:  True RL:  False -> start new detection cycle\n",
      "New detection not meeting expectations rr:  391.154238138 rp:  1.76356463176\n"
     ]
    },
    {
     "name": "stderr",
     "output_type": "stream",
     "text": [
      "\r",
      " 35%|███▌      | 172/485 [00:30<01:07,  4.66it/s]"
     ]
    },
    {
     "name": "stdout",
     "output_type": "stream",
     "text": [
      "LL:  True RL:  False -> start new detection cycle\n",
      "New detection not meeting expectations rr:  415.668151502 rp:  1.75778239741\n",
      "LL:  True RL:  False -> start new detection cycle\n",
      "New detection not meeting expectations rr:  363.049652266 rp:  1.79639344801\n"
     ]
    },
    {
     "name": "stderr",
     "output_type": "stream",
     "text": [
      " 36%|███▌      | 174/485 [00:30<01:04,  4.85it/s]"
     ]
    },
    {
     "name": "stdout",
     "output_type": "stream",
     "text": [
      "LL:  True RL:  False -> start new detection cycle\n",
      "New detection not meeting expectations rr:  387.169032198 rp:  1.78864151658\n"
     ]
    },
    {
     "name": "stderr",
     "output_type": "stream",
     "text": [
      "\r",
      " 36%|███▌      | 175/485 [00:31<01:06,  4.66it/s]"
     ]
    },
    {
     "name": "stdout",
     "output_type": "stream",
     "text": [
      "LL:  True RL:  False -> start new detection cycle\n",
      "New detection not meeting expectations rr:  447.570739877 rp:  1.74977068519\n",
      "LL:  True RL:  False -> start new detection cycle\n",
      "New detection not meeting expectations rr:  336.35660905 rp:  1.81354154505\n"
     ]
    },
    {
     "name": "stderr",
     "output_type": "stream",
     "text": [
      " 36%|███▋      | 177/485 [00:31<00:59,  5.17it/s]"
     ]
    },
    {
     "name": "stdout",
     "output_type": "stream",
     "text": [
      "LL:  True RL:  False -> start new detection cycle\n",
      "New detection not meeting expectations rr:  348.842417948 rp:  1.81494452648\n",
      "LL:  True RL:  False -> start new detection cycle\n"
     ]
    },
    {
     "name": "stderr",
     "output_type": "stream",
     "text": [
      "\r",
      " 37%|███▋      | 178/485 [00:31<01:02,  4.93it/s]"
     ]
    },
    {
     "name": "stdout",
     "output_type": "stream",
     "text": [
      "New detection not meeting expectations rr:  321.166883351 rp:  1.80586382476\n",
      "LL:  True RL:  False -> start new detection cycle\n",
      "New detection not meeting expectations rr:  359.792076227 rp:  1.77348147636\n"
     ]
    },
    {
     "name": "stderr",
     "output_type": "stream",
     "text": [
      " 37%|███▋      | 180/485 [00:32<00:57,  5.31it/s]"
     ]
    },
    {
     "name": "stdout",
     "output_type": "stream",
     "text": [
      "LL:  True RL:  False -> start new detection cycle\n",
      "New detection not meeting expectations rr:  425.251918243 rp:  1.75098550352\n",
      "LL:  True RL:  False -> start new detection cycle\n",
      "New detection not meeting expectations rr:  446.810496833 rp:  1.76929791082\n"
     ]
    },
    {
     "name": "stderr",
     "output_type": "stream",
     "text": [
      " 38%|███▊      | 183/485 [00:32<00:53,  5.67it/s]"
     ]
    },
    {
     "name": "stdout",
     "output_type": "stream",
     "text": [
      "LL:  True RL:  False -> start new detection cycle\n",
      "New detection not meeting expectations rr:  367.016591567 rp:  1.76111594583\n",
      "LL:  True RL:  False -> start new detection cycle\n",
      "New detection not meeting expectations rr:  354.159998803 rp:  1.78112110562\n"
     ]
    },
    {
     "name": "stderr",
     "output_type": "stream",
     "text": [
      "\r",
      " 38%|███▊      | 184/485 [00:32<00:52,  5.74it/s]"
     ]
    },
    {
     "name": "stdout",
     "output_type": "stream",
     "text": [
      "LL:  True RL:  False -> start new detection cycle\n",
      "New detection not meeting expectations rr:  361.284330284 rp:  1.77060975106\n",
      "LL:  True RL:  False -> start new detection cycle\n",
      "New detection not meeting expectations rr:  416.414062578 rp:  1.77315154536\n"
     ]
    },
    {
     "name": "stderr",
     "output_type": "stream",
     "text": [
      " 38%|███▊      | 186/485 [00:33<00:52,  5.68it/s]"
     ]
    },
    {
     "name": "stdout",
     "output_type": "stream",
     "text": [
      "LL:  True RL:  False -> start new detection cycle\n",
      "New detection not meeting expectations rr:  419.045418359 rp:  1.77451577918\n",
      "LL:  True RL:  False -> start new detection cycle\n",
      "New detection not meeting expectations rr:  386.6607719 rp:  1.80261966893\n"
     ]
    },
    {
     "name": "stderr",
     "output_type": "stream",
     "text": [
      " 39%|███▉      | 188/485 [00:33<00:51,  5.79it/s]"
     ]
    },
    {
     "name": "stdout",
     "output_type": "stream",
     "text": [
      "LL:  True RL:  False -> start new detection cycle\n",
      "New detection not meeting expectations rr:  341.571082524 rp:  0.142606182686\n",
      "LL:  True RL:  False -> start new detection cycle\n",
      "New detection not meeting expectations rr:  359.826391304 rp:  0.128404071855\n"
     ]
    },
    {
     "name": "stderr",
     "output_type": "stream",
     "text": [
      " 39%|███▉      | 190/485 [00:33<00:51,  5.75it/s]"
     ]
    },
    {
     "name": "stdout",
     "output_type": "stream",
     "text": [
      "LL:  True RL:  False -> start new detection cycle\n",
      "New detection not meeting expectations rr:  362.331007089 rp:  0.127640443296\n",
      "LL:  True RL:  False -> start new detection cycle\n",
      "New detection not meeting expectations rr:  366.670941492 rp:  0.128744342149\n"
     ]
    },
    {
     "name": "stderr",
     "output_type": "stream",
     "text": [
      " 40%|███▉      | 192/485 [00:34<00:52,  5.54it/s]"
     ]
    },
    {
     "name": "stdout",
     "output_type": "stream",
     "text": [
      "LL:  True RL:  False -> start new detection cycle\n",
      "New detection not meeting expectations rr:  359.315518107 rp:  0.117603360388\n"
     ]
    },
    {
     "name": "stderr",
     "output_type": "stream",
     "text": [
      "\r",
      " 40%|███▉      | 193/485 [00:34<00:56,  5.20it/s]"
     ]
    },
    {
     "name": "stdout",
     "output_type": "stream",
     "text": [
      "LL:  True RL:  False -> start new detection cycle\n",
      "New detection not meeting expectations rr:  306.842801462 rp:  1.82163252542\n",
      "LL:  True RL:  False -> start new detection cycle\n",
      "New detection not meeting expectations rr:  283.038535719 rp:  1.82262233057\n"
     ]
    },
    {
     "name": "stderr",
     "output_type": "stream",
     "text": [
      " 40%|████      | 196/485 [00:34<00:50,  5.77it/s]"
     ]
    },
    {
     "name": "stdout",
     "output_type": "stream",
     "text": [
      "LL:  True RL:  False -> start new detection cycle\n",
      "New detection not meeting expectations rr:  275.986914194 rp:  1.81627251532\n",
      "LL:  True RL:  False -> start new detection cycle\n",
      "New detection not meeting expectations rr:  284.671164561 rp:  1.79707518098\n"
     ]
    },
    {
     "name": "stderr",
     "output_type": "stream",
     "text": [
      " 41%|████      | 198/485 [00:35<00:50,  5.73it/s]"
     ]
    },
    {
     "name": "stdout",
     "output_type": "stream",
     "text": [
      "LL:  True RL:  False -> start new detection cycle\n",
      "New detection not meeting expectations rr:  285.086188935 rp:  1.793077124\n",
      "LL:  True RL:  False -> start new detection cycle\n",
      "New detection not meeting expectations rr:  313.927404105 rp:  1.7868669787\n"
     ]
    },
    {
     "name": "stderr",
     "output_type": "stream",
     "text": [
      " 41%|████      | 200/485 [00:35<00:48,  5.92it/s]"
     ]
    },
    {
     "name": "stdout",
     "output_type": "stream",
     "text": [
      "LL:  True RL:  False -> start new detection cycle\n",
      "New detection not meeting expectations rr:  309.081753032 rp:  1.79096788966\n",
      "LL:  True RL:  False -> start new detection cycle\n",
      "New detection not meeting expectations rr:  295.622932243 rp:  1.81529362467\n"
     ]
    },
    {
     "name": "stderr",
     "output_type": "stream",
     "text": [
      "\r",
      " 41%|████▏     | 201/485 [00:35<00:49,  5.70it/s]"
     ]
    },
    {
     "name": "stdout",
     "output_type": "stream",
     "text": [
      "LL:  True RL:  False -> start new detection cycle\n",
      "New detection not meeting expectations rr:  286.609260986 rp:  1.82828773436\n"
     ]
    },
    {
     "name": "stderr",
     "output_type": "stream",
     "text": [
      "\r",
      " 42%|████▏     | 202/485 [00:36<00:53,  5.33it/s]"
     ]
    },
    {
     "name": "stdout",
     "output_type": "stream",
     "text": [
      "LL:  True RL:  False -> start new detection cycle\n",
      "New detection not meeting expectations rr:  303.73618213 rp:  1.81376615458\n"
     ]
    },
    {
     "name": "stderr",
     "output_type": "stream",
     "text": [
      "\r",
      " 42%|████▏     | 203/485 [00:36<00:56,  5.02it/s]"
     ]
    },
    {
     "name": "stdout",
     "output_type": "stream",
     "text": [
      "LL:  True RL:  False -> start new detection cycle\n",
      "New detection not meeting expectations rr:  305.426657403 rp:  1.79383949753\n",
      "LL:  True RL:  False -> start new detection cycle\n",
      "New detection not meeting expectations rr:  321.97493506 rp:  1.77070136026\n"
     ]
    },
    {
     "name": "stderr",
     "output_type": "stream",
     "text": [
      " 42%|████▏     | 205/485 [00:36<00:51,  5.42it/s]"
     ]
    },
    {
     "name": "stdout",
     "output_type": "stream",
     "text": [
      "LL:  True RL:  False -> start new detection cycle\n",
      "New detection not meeting expectations rr:  327.542463108 rp:  1.74236292481\n",
      "LL:  True RL:  False -> start new detection cycle\n",
      "New detection not meeting expectations rr:  291.54347339 rp:  1.76763854144\n"
     ]
    },
    {
     "name": "stderr",
     "output_type": "stream",
     "text": [
      " 43%|████▎     | 207/485 [00:36<00:53,  5.16it/s]"
     ]
    },
    {
     "name": "stdout",
     "output_type": "stream",
     "text": [
      "LL:  True RL:  False -> start new detection cycle\n",
      "New detection not meeting expectations rr:  284.32794079 rp:  1.76787464862\n"
     ]
    },
    {
     "name": "stderr",
     "output_type": "stream",
     "text": [
      "\r",
      " 43%|████▎     | 208/485 [00:37<00:55,  5.03it/s]"
     ]
    },
    {
     "name": "stdout",
     "output_type": "stream",
     "text": [
      "LL:  True RL:  False -> start new detection cycle\n",
      "New detection not meeting expectations rr:  292.407467368 rp:  1.76869287961\n",
      "LL:  True RL:  False -> start new detection cycle\n",
      "New detection not meeting expectations rr:  314.456274594 rp:  1.75899624238\n"
     ]
    },
    {
     "name": "stderr",
     "output_type": "stream",
     "text": [
      " 43%|████▎     | 210/485 [00:37<00:51,  5.39it/s]"
     ]
    },
    {
     "name": "stdout",
     "output_type": "stream",
     "text": [
      "LL:  True RL:  False -> start new detection cycle\n",
      "New detection not meeting expectations rr:  332.547514585 rp:  1.74888794186\n",
      "LL:  True RL:  False -> start new detection cycle\n",
      "New detection not meeting expectations rr:  322.678442229 rp:  1.73823618269\n"
     ]
    },
    {
     "name": "stderr",
     "output_type": "stream",
     "text": [
      " 44%|████▎     | 212/485 [00:37<00:48,  5.64it/s]"
     ]
    },
    {
     "name": "stdout",
     "output_type": "stream",
     "text": [
      "LL:  True RL:  False -> start new detection cycle\n",
      "New detection not meeting expectations rr:  299.523187603 rp:  1.72656610391\n",
      "LL:  True RL:  False -> start new detection cycle\n",
      "New detection not meeting expectations rr:  296.353852423 rp:  1.72922763906\n"
     ]
    },
    {
     "name": "stderr",
     "output_type": "stream",
     "text": [
      " 44%|████▍     | 214/485 [00:38<00:47,  5.73it/s]"
     ]
    },
    {
     "name": "stdout",
     "output_type": "stream",
     "text": [
      "LL:  True RL:  False -> start new detection cycle\n",
      "New detection not meeting expectations rr:  310.247005446 rp:  1.74059356242\n",
      "LL:  True RL:  False -> start new detection cycle\n",
      "New detection not meeting expectations rr:  276.337544249 rp:  1.78520845314\n"
     ]
    },
    {
     "name": "stderr",
     "output_type": "stream",
     "text": [
      " 45%|████▍     | 216/485 [00:38<00:45,  5.90it/s]"
     ]
    },
    {
     "name": "stdout",
     "output_type": "stream",
     "text": [
      "LL:  True RL:  False -> start new detection cycle\n",
      "New detection not meeting expectations rr:  318.124397478 rp:  1.75577132177\n",
      "LL:  True RL:  False -> start new detection cycle\n",
      "New detection not meeting expectations rr:  288.675449782 rp:  1.77982740556\n"
     ]
    },
    {
     "name": "stderr",
     "output_type": "stream",
     "text": [
      " 45%|████▍     | 218/485 [00:38<00:48,  5.49it/s]"
     ]
    },
    {
     "name": "stdout",
     "output_type": "stream",
     "text": [
      "LL:  True RL:  False -> start new detection cycle\n",
      "New detection not meeting expectations rr:  306.445277208 rp:  1.76199275942\n",
      "LL:  True RL:  False -> start new detection cycle\n"
     ]
    },
    {
     "name": "stderr",
     "output_type": "stream",
     "text": [
      " 45%|████▌     | 220/485 [00:39<00:47,  5.60it/s]"
     ]
    },
    {
     "name": "stdout",
     "output_type": "stream",
     "text": [
      "New detection not meeting expectations rr:  277.708162808 rp:  1.76737176829\n",
      "LL:  True RL:  False -> start new detection cycle\n",
      "New detection not meeting expectations rr:  295.94640351 rp:  1.76178865535\n"
     ]
    },
    {
     "name": "stderr",
     "output_type": "stream",
     "text": [
      "\r",
      " 46%|████▌     | 221/485 [00:39<00:47,  5.58it/s]"
     ]
    },
    {
     "name": "stdout",
     "output_type": "stream",
     "text": [
      "LL:  True RL:  False -> start new detection cycle\n",
      "New detection not meeting expectations lr:  339.776783745 lp:  2.00265618789\n",
      "New detection not meeting expectations rr:  301.093650056 rp:  1.75980610863\n",
      "LL:  True RL:  False -> start new detection cycle\n",
      "New detection not meeting expectations rr:  316.140170328 rp:  1.76740123062\n"
     ]
    },
    {
     "name": "stderr",
     "output_type": "stream",
     "text": [
      " 46%|████▌     | 223/485 [00:39<00:51,  5.04it/s]"
     ]
    },
    {
     "name": "stdout",
     "output_type": "stream",
     "text": [
      "LL:  True RL:  False -> start new detection cycle\n",
      "New detection not meeting expectations lr:  373.711013517 lp:  2.03054937999\n",
      "New detection not meeting expectations rr:  336.179177563 rp:  1.75212848235\n"
     ]
    },
    {
     "name": "stderr",
     "output_type": "stream",
     "text": [
      "\r",
      " 46%|████▌     | 224/485 [00:40<00:50,  5.17it/s]"
     ]
    },
    {
     "name": "stdout",
     "output_type": "stream",
     "text": [
      "LL:  True RL:  False -> start new detection cycle\n",
      "New detection not meeting expectations lr:  376.353162346 lp:  2.0412294671\n",
      "New detection not meeting expectations rr:  363.442885703 rp:  1.74006048324\n",
      "LL:  True RL:  False -> start new detection cycle\n",
      "New detection not meeting expectations lr:  381.502441939 lp:  2.03570090454\n",
      "New detection not meeting expectations rr:  328.410406294 rp:  1.73698527089\n"
     ]
    },
    {
     "name": "stderr",
     "output_type": "stream",
     "text": [
      " 47%|████▋     | 226/485 [00:40<00:46,  5.62it/s]"
     ]
    },
    {
     "name": "stdout",
     "output_type": "stream",
     "text": [
      "LL:  True RL:  False -> start new detection cycle\n",
      "New detection not meeting expectations lr:  370.264883424 lp:  2.01326196606\n",
      "New detection not meeting expectations rr:  326.268558749 rp:  1.72463258928\n",
      "LL:  True RL:  False -> start new detection cycle\n",
      "New detection not meeting expectations lr:  381.231253782 lp:  2.04307828094\n",
      "New detection not meeting expectations rr:  323.461335806 rp:  1.70859025056\n"
     ]
    },
    {
     "name": "stderr",
     "output_type": "stream",
     "text": [
      " 47%|████▋     | 228/485 [00:40<00:44,  5.74it/s]"
     ]
    },
    {
     "name": "stdout",
     "output_type": "stream",
     "text": [
      "LL:  True RL:  False -> start new detection cycle\n",
      "New detection not meeting expectations lr:  359.44835127 lp:  2.00799505062\n",
      "New detection not meeting expectations rr:  317.057774847 rp:  1.72678629845\n",
      "LL:  True RL:  False -> start new detection cycle\n",
      "New detection not meeting expectations rr:  282.229180864 rp:  1.76976446346\n"
     ]
    },
    {
     "name": "stderr",
     "output_type": "stream",
     "text": [
      " 47%|████▋     | 230/485 [00:41<00:43,  5.92it/s]"
     ]
    },
    {
     "name": "stdout",
     "output_type": "stream",
     "text": [
      "LL:  True RL:  False -> start new detection cycle\n",
      "New detection not meeting expectations lr:  359.696909491 lp:  2.01677507365\n",
      "New detection not meeting expectations rr:  303.71193787 rp:  1.72174355455\n",
      "LL:  True RL:  False -> start new detection cycle\n",
      "New detection not meeting expectations lr:  425.037096789 lp:  2.06670275785\n",
      "New detection not meeting expectations rr:  366.79157839 rp:  1.70843167446\n"
     ]
    },
    {
     "name": "stderr",
     "output_type": "stream",
     "text": [
      " 48%|████▊     | 232/485 [00:41<00:44,  5.71it/s]"
     ]
    },
    {
     "name": "stdout",
     "output_type": "stream",
     "text": [
      "LL:  True RL:  False -> start new detection cycle\n",
      "New detection not meeting expectations lr:  419.219614336 lp:  2.05361488454\n",
      "New detection not meeting expectations rr:  366.481948337 rp:  1.71807908167\n"
     ]
    },
    {
     "name": "stderr",
     "output_type": "stream",
     "text": [
      " 48%|████▊     | 234/485 [00:41<00:45,  5.53it/s]"
     ]
    },
    {
     "name": "stdout",
     "output_type": "stream",
     "text": [
      "LL:  True RL:  False -> start new detection cycle\n",
      "New detection not meeting expectations rr:  330.224865431 rp:  1.71534141639\n",
      "LL:  True RL:  False -> start new detection cycle\n",
      "New detection not meeting expectations lr:  461.975174107 lp:  2.06547173411\n",
      "New detection not meeting expectations rr:  349.536512619 rp:  1.71280986908\n"
     ]
    },
    {
     "name": "stderr",
     "output_type": "stream",
     "text": [
      "\r",
      " 48%|████▊     | 235/485 [00:41<00:44,  5.58it/s]"
     ]
    },
    {
     "name": "stdout",
     "output_type": "stream",
     "text": [
      "LL:  True RL:  False -> start new detection cycle\n",
      "New detection not meeting expectations rr:  305.462476747 rp:  1.74775382777\n",
      "LL:  True RL:  False -> start new detection cycle\n",
      "New detection not meeting expectations rr:  359.671974006 rp:  1.72135022742\n"
     ]
    },
    {
     "name": "stderr",
     "output_type": "stream",
     "text": [
      " 49%|████▉     | 237/485 [00:42<00:44,  5.55it/s]"
     ]
    },
    {
     "name": "stdout",
     "output_type": "stream",
     "text": [
      "LL:  True RL:  False -> start new detection cycle\n",
      "New detection not meeting expectations rr:  331.642997714 rp:  1.70166071027\n",
      "LL:  True"
     ]
    },
    {
     "name": "stderr",
     "output_type": "stream",
     "text": [
      "\r",
      " 49%|████▉     | 238/485 [00:42<00:46,  5.28it/s]"
     ]
    },
    {
     "name": "stdout",
     "output_type": "stream",
     "text": [
      " RL:  False -> start new detection cycle\n",
      "New detection not meeting expectations rr:  322.833685984 rp:  1.69763339767\n"
     ]
    },
    {
     "name": "stderr",
     "output_type": "stream",
     "text": [
      "\r",
      " 49%|████▉     | 239/485 [00:42<00:50,  4.87it/s]"
     ]
    },
    {
     "name": "stdout",
     "output_type": "stream",
     "text": [
      "LL:  True RL:  False -> start new detection cycle\n",
      "New detection not meeting expectations rr:  303.655517572 rp:  1.68973343519\n"
     ]
    },
    {
     "name": "stderr",
     "output_type": "stream",
     "text": [
      "\r",
      " 49%|████▉     | 240/485 [00:43<00:53,  4.60it/s]"
     ]
    },
    {
     "name": "stdout",
     "output_type": "stream",
     "text": [
      "LL:  True RL:  False -> start new detection cycle\n",
      "New detection not meeting expectations rr:  323.430060301 rp:  1.69078910817\n"
     ]
    },
    {
     "name": "stderr",
     "output_type": "stream",
     "text": [
      " 50%|████▉     | 242/485 [00:43<00:48,  5.01it/s]"
     ]
    },
    {
     "name": "stdout",
     "output_type": "stream",
     "text": [
      "LL:  True RL:  False -> start new detection cycle\n",
      "New detection not meeting expectations rr:  299.551886254 rp:  1.70411083873\n",
      "LL:  True RL:  False -> start new detection cycle\n",
      "New detection not meeting expectations rr:  300.672641492 rp:  1.7443041522\n"
     ]
    },
    {
     "name": "stderr",
     "output_type": "stream",
     "text": [
      " 50%|█████     | 244/485 [00:43<00:43,  5.49it/s]"
     ]
    },
    {
     "name": "stdout",
     "output_type": "stream",
     "text": [
      "LL:  True RL:  False -> start new detection cycle\n",
      "New detection not meeting expectations rr:  256.466244845 rp:  1.81469772588\n",
      "LL:  True RL:  False -> start new detection cycle\n",
      "New detection not meeting expectations rr:  283.76083569 rp:  1.78401195719\n"
     ]
    },
    {
     "name": "stderr",
     "output_type": "stream",
     "text": [
      "\r",
      " 51%|█████     | 245/485 [00:43<00:42,  5.61it/s]"
     ]
    },
    {
     "name": "stdout",
     "output_type": "stream",
     "text": [
      "LL:  True RL:  False -> start new detection cycle\n",
      "New detection not meeting expectations rr:  277.099342009 rp:  1.80210634902\n",
      "LL:  True RL:  False -> start new detection cycle\n",
      "New detection not meeting expectations rr:  295.36987784 rp:  1.79394826181\n"
     ]
    },
    {
     "name": "stderr",
     "output_type": "stream",
     "text": [
      " 51%|█████     | 247/485 [00:44<00:42,  5.60it/s]"
     ]
    },
    {
     "name": "stdout",
     "output_type": "stream",
     "text": [
      "LL:  True RL:  False -> start new detection cycle\n",
      "New detection not meeting expectations rr:  289.09573083 rp:  1.80449217831\n",
      "LL:  True RL:  False -> start new detection cycle\n",
      "New detection not meeting expectations rr:  294.158847508 rp:  1.78788285439\n"
     ]
    },
    {
     "name": "stderr",
     "output_type": "stream",
     "text": [
      " 52%|█████▏    | 250/485 [00:44<00:40,  5.83it/s]"
     ]
    },
    {
     "name": "stdout",
     "output_type": "stream",
     "text": [
      "LL:  True RL:  False -> start new detection cycle\n",
      "New detection not meeting expectations rr:  285.595764561 rp:  1.78052658023\n",
      "LL:  True RL:  False -> start new detection cycle\n",
      "New detection not meeting expectations rr:  310.910737506 rp:  1.77351462876\n"
     ]
    },
    {
     "name": "stderr",
     "output_type": "stream",
     "text": [
      "\r",
      " 52%|█████▏    | 251/485 [00:44<00:40,  5.78it/s]"
     ]
    },
    {
     "name": "stdout",
     "output_type": "stream",
     "text": [
      "LL:  True RL:  False -> start new detection cycle\n",
      "New detection not meeting expectations rr:  291.906659544 rp:  1.76736931859\n",
      "LL:  True RL:  False -> start new detection cycle\n",
      "New detection not meeting expectations rr:  308.34708533 rp:  1.76821989309\n"
     ]
    },
    {
     "name": "stderr",
     "output_type": "stream",
     "text": [
      " 52%|█████▏    | 254/485 [00:45<00:38,  5.93it/s]"
     ]
    },
    {
     "name": "stdout",
     "output_type": "stream",
     "text": [
      "LL:  True RL:  False -> start new detection cycle\n",
      "New detection not meeting expectations rr:  316.079062494 rp:  1.75489487006\n",
      "LL:  True RL:  False -> start new detection cycle\n",
      "New detection not meeting expectations rr:  314.23488073 rp:  1.77587100159\n"
     ]
    },
    {
     "name": "stderr",
     "output_type": "stream",
     "text": [
      " 53%|█████▎    | 256/485 [00:45<00:37,  6.09it/s]"
     ]
    },
    {
     "name": "stdout",
     "output_type": "stream",
     "text": [
      "LL:  True RL:  False -> start new detection cycle\n",
      "New detection not meeting expectations rr:  328.36494631 rp:  1.78327765855\n",
      "LL:  True RL:  False -> start new detection cycle\n",
      "New detection not meeting expectations rr:  312.343959362 rp:  1.82344483105\n"
     ]
    },
    {
     "name": "stderr",
     "output_type": "stream",
     "text": [
      "\r",
      " 53%|█████▎    | 257/485 [00:45<00:37,  6.02it/s]"
     ]
    },
    {
     "name": "stdout",
     "output_type": "stream",
     "text": [
      "LL:  True RL:  False -> start new detection cycle\n",
      "New detection not meeting expectations rr:  280.848083214 rp:  1.88205965416\n",
      "LL:  True RL:  False -> start new detection cycle\n",
      "New detection not meeting expectations rr:  304.573116411 rp:  1.84258634553\n"
     ]
    },
    {
     "name": "stderr",
     "output_type": "stream",
     "text": [
      " 54%|█████▎    | 260/485 [00:46<00:36,  6.10it/s]"
     ]
    },
    {
     "name": "stdout",
     "output_type": "stream",
     "text": [
      "LL:  True RL:  False -> start new detection cycle\n",
      "New detection not meeting expectations rr:  299.870107158 rp:  1.83976033149\n",
      "LL:  True RL:  False -> start new detection cycle\n",
      "New detection not meeting expectations rr:  314.481734463 rp:  1.82075954719\n"
     ]
    },
    {
     "name": "stderr",
     "output_type": "stream",
     "text": [
      "\r",
      " 54%|█████▍    | 261/485 [00:46<00:37,  6.00it/s]"
     ]
    },
    {
     "name": "stdout",
     "output_type": "stream",
     "text": [
      "LL:  True RL:  False -> start new detection cycle\n",
      "New detection not meeting expectations rr:  303.337903273 rp:  1.80523654535\n",
      "LL:  True RL:  False -> start new detection cycle\n",
      "New detection not meeting expectations rr:  296.165959761 rp:  1.80654165392\n"
     ]
    },
    {
     "name": "stderr",
     "output_type": "stream",
     "text": [
      " 54%|█████▍    | 263/485 [00:46<00:36,  6.10it/s]"
     ]
    },
    {
     "name": "stdout",
     "output_type": "stream",
     "text": [
      "LL:  True RL:  False -> start new detection cycle\n",
      "New detection not meeting expectations rr:  279.181483456 rp:  1.80890210892\n",
      "LL:  True RL:  False -> start new detection cycle\n",
      "New detection not meeting expectations rr:  274.337032173 rp:  1.80317516128\n"
     ]
    },
    {
     "name": "stderr",
     "output_type": "stream",
     "text": [
      " 55%|█████▍    | 266/485 [00:47<00:36,  6.04it/s]"
     ]
    },
    {
     "name": "stdout",
     "output_type": "stream",
     "text": [
      "LL:  True RL:  False -> start new detection cycle\n",
      "New detection not meeting expectations rr:  300.062917348 rp:  1.7862354869\n",
      "LL:  True RL:  False -> start new detection cycle\n",
      "New detection not meeting expectations rr:  322.767719582 rp:  1.78127619691\n"
     ]
    },
    {
     "name": "stderr",
     "output_type": "stream",
     "text": [
      "\r",
      " 55%|█████▌    | 267/485 [00:47<00:37,  5.82it/s]"
     ]
    },
    {
     "name": "stdout",
     "output_type": "stream",
     "text": [
      "LL:  True RL:  False -> start new detection cycle\n",
      "New detection not meeting expectations rr:  310.19009347 rp:  1.786922088\n",
      "LL:  True RL:  False -> start new detection cycle\n"
     ]
    },
    {
     "name": "stderr",
     "output_type": "stream",
     "text": [
      " 55%|█████▌    | 269/485 [00:47<00:36,  5.84it/s]"
     ]
    },
    {
     "name": "stdout",
     "output_type": "stream",
     "text": [
      "New detection not meeting expectations rr:  346.152545547 rp:  1.77346063525\n",
      "LL:  True RL:  False -> start new detection cycle\n",
      "New detection not meeting expectations rr:  343.030211235 rp:  1.79108357055\n"
     ]
    },
    {
     "name": "stderr",
     "output_type": "stream",
     "text": [
      "\r",
      " 56%|█████▌    | 270/485 [00:48<00:37,  5.73it/s]"
     ]
    },
    {
     "name": "stdout",
     "output_type": "stream",
     "text": [
      "LL:  True RL:  False -> start new detection cycle\n",
      "New detection not meeting expectations rr:  334.223243816 rp:  1.81710799062\n"
     ]
    },
    {
     "name": "stderr",
     "output_type": "stream",
     "text": [
      "\r",
      " 56%|█████▌    | 271/485 [00:48<00:40,  5.34it/s]"
     ]
    },
    {
     "name": "stdout",
     "output_type": "stream",
     "text": [
      "LL:  True RL:  False -> start new detection cycle\n",
      "New detection not meeting expectations rr:  346.623323113 rp:  1.78489946318\n"
     ]
    },
    {
     "name": "stderr",
     "output_type": "stream",
     "text": [
      "\r",
      " 56%|█████▌    | 272/485 [00:48<00:43,  4.94it/s]"
     ]
    },
    {
     "name": "stdout",
     "output_type": "stream",
     "text": [
      "LL:  True RL:  False -> start new detection cycle\n",
      "New detection not meeting expectations rr:  336.708482053 rp:  1.79089108462\n"
     ]
    },
    {
     "name": "stderr",
     "output_type": "stream",
     "text": [
      "\r",
      " 56%|█████▋    | 273/485 [00:48<00:42,  4.95it/s]"
     ]
    },
    {
     "name": "stdout",
     "output_type": "stream",
     "text": [
      "LL:  True RL:  False -> start new detection cycle\n",
      "New detection not meeting expectations rr:  289.002707598 rp:  1.85213432299\n",
      "LL:  True RL:  False -> start new detection cycle\n",
      "New detection not meeting expectations rr:  309.470148511 rp:  1.77612248998\n"
     ]
    },
    {
     "name": "stderr",
     "output_type": "stream",
     "text": [
      " 57%|█████▋    | 275/485 [00:49<00:38,  5.43it/s]"
     ]
    },
    {
     "name": "stdout",
     "output_type": "stream",
     "text": [
      "LL:  True RL:  False -> start new detection cycle\n",
      "New detection not meeting expectations rr:  316.737344934 rp:  1.76219870289\n",
      "LL:  True RL:  False -> start new detection cycle\n",
      "New detection not meeting expectations rr:  1240.13776733 rp:  1.58926797446\n"
     ]
    },
    {
     "name": "stderr",
     "output_type": "stream",
     "text": [
      " 57%|█████▋    | 277/485 [00:49<00:36,  5.73it/s]"
     ]
    },
    {
     "name": "stdout",
     "output_type": "stream",
     "text": [
      "LL:  True RL:  False -> start new detection cycle\n",
      "New detection not meeting expectations rr:  1079.1565247 rp:  1.61001456833\n",
      "LL:  True RL:  False -> start new detection cycle\n",
      "New detection not meeting expectations rr:  422.509036989 rp:  1.72042250207\n"
     ]
    },
    {
     "name": "stderr",
     "output_type": "stream",
     "text": [
      " 58%|█████▊    | 279/485 [00:49<00:39,  5.26it/s]"
     ]
    },
    {
     "name": "stdout",
     "output_type": "stream",
     "text": [
      "LL:  True RL:  False -> start new detection cycle\n",
      "New detection not meeting expectations rr:  282.323984548 rp:  1.7558452468\n"
     ]
    },
    {
     "name": "stderr",
     "output_type": "stream",
     "text": [
      "\r",
      " 58%|█████▊    | 280/485 [00:50<00:43,  4.72it/s]"
     ]
    },
    {
     "name": "stdout",
     "output_type": "stream",
     "text": [
      "LL:  True RL:  False -> start new detection cycle\n",
      "New detection not meeting expectations rr:  319.417607588 rp:  1.74218018319\n"
     ]
    },
    {
     "name": "stderr",
     "output_type": "stream",
     "text": [
      "\r",
      " 58%|█████▊    | 281/485 [00:50<00:43,  4.72it/s]"
     ]
    },
    {
     "name": "stdout",
     "output_type": "stream",
     "text": [
      "LL:  True RL:  False -> start new detection cycle\n",
      "New detection not meeting expectations rr:  332.750610864 rp:  1.73648067829\n"
     ]
    },
    {
     "name": "stderr",
     "output_type": "stream",
     "text": [
      "\r",
      " 58%|█████▊    | 282/485 [00:50<00:44,  4.53it/s]"
     ]
    },
    {
     "name": "stdout",
     "output_type": "stream",
     "text": [
      "LL:  True RL:  False -> start new detection cycle\n",
      "New detection not meeting expectations rr:  302.555895116 rp:  1.75268322196\n"
     ]
    },
    {
     "name": "stderr",
     "output_type": "stream",
     "text": [
      "\r",
      " 58%|█████▊    | 283/485 [00:50<00:41,  4.81it/s]"
     ]
    },
    {
     "name": "stdout",
     "output_type": "stream",
     "text": [
      "LL:  True RL:  False -> start new detection cycle\n",
      "New detection not meeting expectations rr:  316.140546205 rp:  1.75785032673\n",
      "LL:  True RL:  False -> start new detection cycle\n",
      "New detection not meeting expectations rr:  342.247086997 rp:  1.76008494785\n"
     ]
    },
    {
     "name": "stderr",
     "output_type": "stream",
     "text": [
      " 59%|█████▉    | 285/485 [00:51<00:37,  5.29it/s]"
     ]
    },
    {
     "name": "stdout",
     "output_type": "stream",
     "text": [
      "LL:  True RL:  False -> start new detection cycle\n",
      "New detection not meeting expectations rr:  347.499241858 rp:  1.77416015169\n",
      "LL:  True RL:  False -> start new detection cycle\n",
      "New detection not meeting expectations rr:  378.380087855 rp:  1.76979990315\n"
     ]
    },
    {
     "name": "stderr",
     "output_type": "stream",
     "text": [
      " 59%|█████▉    | 288/485 [00:51<00:34,  5.69it/s]"
     ]
    },
    {
     "name": "stdout",
     "output_type": "stream",
     "text": [
      "LL:  True RL:  False -> start new detection cycle\n",
      "New detection not meeting expectations rr:  401.772161889 rp:  1.76373390844\n",
      "LL:  True RL:  False -> start new detection cycle\n",
      "New detection not meeting expectations rr:  408.022732629 rp:  1.75075540695\n"
     ]
    },
    {
     "name": "stderr",
     "output_type": "stream",
     "text": [
      " 60%|█████▉    | 290/485 [00:51<00:33,  5.82it/s]"
     ]
    },
    {
     "name": "stdout",
     "output_type": "stream",
     "text": [
      "LL:  True RL:  False -> start new detection cycle\n",
      "New detection not meeting expectations rr:  414.216047207 rp:  1.74844493084\n",
      "LL:  True RL:  False -> start new detection cycle\n",
      "New detection not meeting expectations rr:  388.813838176 rp:  1.74909917029\n"
     ]
    },
    {
     "name": "stderr",
     "output_type": "stream",
     "text": [
      "\r",
      " 60%|██████    | 291/485 [00:52<00:33,  5.86it/s]"
     ]
    },
    {
     "name": "stdout",
     "output_type": "stream",
     "text": [
      "LL:  True RL:  False -> start new detection cycle\n",
      "New detection not meeting expectations rr:  398.175612678 rp:  1.74972250526\n",
      "LL:  True RL:  False -> start new detection cycle\n",
      "New detection not meeting expectations rr:  384.818176565 rp:  1.74370699105\n"
     ]
    },
    {
     "name": "stderr",
     "output_type": "stream",
     "text": [
      " 60%|██████    | 293/485 [00:52<00:34,  5.52it/s]"
     ]
    },
    {
     "name": "stdout",
     "output_type": "stream",
     "text": [
      "LL:  True RL:  False -> start new detection cycle\n",
      "New detection not meeting expectations rr:  405.923825392 rp:  1.73217082334\n",
      "LL:  True RL:  False -> start new detection cycle\n",
      "New detection not meeting expectations rr:  423.073296039 rp:  1.73156419175\n"
     ]
    },
    {
     "name": "stderr",
     "output_type": "stream",
     "text": [
      " 61%|██████    | 295/485 [00:52<00:39,  4.82it/s]"
     ]
    },
    {
     "name": "stdout",
     "output_type": "stream",
     "text": [
      "LL:  True RL:  False -> start new detection cycle\n",
      "New detection not meeting expectations rr:  431.046927434 rp:  1.72527700821\n"
     ]
    },
    {
     "name": "stderr",
     "output_type": "stream",
     "text": [
      "\r",
      " 61%|██████    | 296/485 [00:53<00:37,  5.05it/s]"
     ]
    },
    {
     "name": "stdout",
     "output_type": "stream",
     "text": [
      "LL:  True RL:  False -> start new detection cycle\n",
      "New detection not meeting expectations rr:  438.941681353 rp:  1.7421625786\n",
      "LL:  True RL:  False -> start new detection cycle\n",
      "New detection not meeting expectations rr:  467.374122196 rp:  1.74937215497\n"
     ]
    },
    {
     "name": "stderr",
     "output_type": "stream",
     "text": [
      " 62%|██████▏   | 299/485 [00:53<00:33,  5.60it/s]"
     ]
    },
    {
     "name": "stdout",
     "output_type": "stream",
     "text": [
      "LL:  True RL:  False -> start new detection cycle\n",
      "New detection not meeting expectations rr:  532.315984907 rp:  1.71455792142\n",
      "LL:  True RL:  False -> start new detection cycle\n",
      "New detection not meeting expectations rr:  534.075577106 rp:  1.71551173447\n"
     ]
    },
    {
     "name": "stderr",
     "output_type": "stream",
     "text": [
      "\r",
      " 62%|██████▏   | 300/485 [00:53<00:32,  5.71it/s]"
     ]
    },
    {
     "name": "stdout",
     "output_type": "stream",
     "text": [
      "LL:  True RL:  False -> start new detection cycle\n",
      "New detection not meeting expectations rr:  555.296356585 rp:  1.71670424501\n",
      "LL:  True RL:  False -> start new detection cycle\n",
      "New detection not meeting expectations rr:  578.410027003 rp:  1.72526172837\n"
     ]
    },
    {
     "name": "stderr",
     "output_type": "stream",
     "text": [
      " 62%|██████▏   | 302/485 [00:54<00:31,  5.82it/s]"
     ]
    },
    {
     "name": "stdout",
     "output_type": "stream",
     "text": [
      "LL:  True RL:  False -> start new detection cycle\n",
      "New detection not meeting expectations rr:  584.31544832 rp:  1.70553124642\n",
      "LL:  True RL:  False -> start new detection cycle\n",
      "New detection not meeting expectations rr:  631.022618853 rp:  1.69960365021\n"
     ]
    },
    {
     "name": "stderr",
     "output_type": "stream",
     "text": [
      " 63%|██████▎   | 304/485 [00:54<00:35,  5.13it/s]"
     ]
    },
    {
     "name": "stdout",
     "output_type": "stream",
     "text": [
      "LL:  True RL:  False -> start new detection cycle\n",
      "New detection not meeting expectations lr:  686.124943998 lp:  2.03306422928\n",
      "New detection not meeting expectations rr:  642.516579207 rp:  1.69112967421\n"
     ]
    },
    {
     "name": "stderr",
     "output_type": "stream",
     "text": [
      "\r",
      " 63%|██████▎   | 305/485 [00:54<00:34,  5.22it/s]"
     ]
    },
    {
     "name": "stdout",
     "output_type": "stream",
     "text": [
      "LL:  True RL:  False -> start new detection cycle\n",
      "New detection not meeting expectations lr:  927.922128322 lp:  2.08221069411\n",
      "New detection not meeting expectations rr:  624.8576328 rp:  1.6884464406\n",
      "LL:  True RL:  False -> start new detection cycle\n",
      "New detection not meeting expectations lr:  817.991919731 lp:  2.02051929042\n",
      "New detection not meeting expectations rr:  630.61830441 rp:  1.68220883444\n"
     ]
    },
    {
     "name": "stderr",
     "output_type": "stream",
     "text": [
      " 63%|██████▎   | 307/485 [00:55<00:32,  5.53it/s]"
     ]
    },
    {
     "name": "stdout",
     "output_type": "stream",
     "text": [
      "LL:  True RL:  False -> start new detection cycle\n",
      "New detection not meeting expectations lr:  833.697355132 lp:  2.01222849109\n",
      "New detection not meeting expectations rr:  616.369773711 rp:  1.69256279469\n",
      "LL:  True RL:  False -> start new detection cycle\n",
      "New detection not meeting expectations rr:  568.276658093 rp:  1.70892996381\n"
     ]
    },
    {
     "name": "stderr",
     "output_type": "stream",
     "text": [
      " 64%|██████▎   | 309/485 [00:55<00:30,  5.69it/s]"
     ]
    },
    {
     "name": "stdout",
     "output_type": "stream",
     "text": [
      "LL:  True RL:  False -> start new detection cycle\n",
      "New detection not meeting expectations rr:  519.129135828 rp:  1.73172154298\n",
      "LL:  True RL:  False -> start new detection cycle\n",
      "New detection not meeting expectations rr:  647.274649931 rp:  1.71771124434\n"
     ]
    },
    {
     "name": "stderr",
     "output_type": "stream",
     "text": [
      " 64%|██████▍   | 312/485 [00:55<00:29,  5.96it/s]"
     ]
    },
    {
     "name": "stdout",
     "output_type": "stream",
     "text": [
      "LL:  True RL:  False -> start new detection cycle\n",
      "New detection not meeting expectations rr:  697.89778805 rp:  1.71490220332\n",
      "LL:  True RL:  False -> start new detection cycle\n",
      "New detection not meeting expectations rr:  1256.54233178 rp:  1.63525591422\n"
     ]
    },
    {
     "name": "stderr",
     "output_type": "stream",
     "text": [
      "\r",
      " 65%|██████▍   | 313/485 [00:56<00:30,  5.69it/s]"
     ]
    },
    {
     "name": "stdout",
     "output_type": "stream",
     "text": [
      "LL:  True RL:  False -> start new detection cycle\n",
      "New detection not meeting expectations rr:  1226.22426334 rp:  1.64545142346\n",
      "LL:  True RL:  False -> start new detection cycle\n",
      "New detection not meeting expectations rr:  1100.62465975 rp:  1.67260566306\n"
     ]
    },
    {
     "name": "stderr",
     "output_type": "stream",
     "text": [
      " 65%|██████▍   | 315/485 [00:56<00:29,  5.83it/s]"
     ]
    },
    {
     "name": "stdout",
     "output_type": "stream",
     "text": [
      "LL:  True RL:  False -> start new detection cycle\n",
      "New detection not meeting expectations rr:  991.061523564 rp:  1.69274812126\n",
      "LL:  True RL:  False -> start new detection cycle\n",
      "New detection not meeting expectations rr:  904.571648499 rp:  1.693182626\n"
     ]
    },
    {
     "name": "stderr",
     "output_type": "stream",
     "text": [
      " 66%|██████▌   | 318/485 [00:56<00:27,  6.03it/s]"
     ]
    },
    {
     "name": "stdout",
     "output_type": "stream",
     "text": [
      "LL:  True RL:  False -> start new detection cycle\n",
      "New detection not meeting expectations rr:  889.129924046 rp:  1.69862074608\n",
      "LL:  True RL:  False -> start new detection cycle\n",
      "New detection not meeting expectations rr:  852.367716315 rp:  1.70248379055\n"
     ]
    },
    {
     "name": "stderr",
     "output_type": "stream",
     "text": [
      " 66%|██████▌   | 320/485 [00:57<00:27,  5.97it/s]"
     ]
    },
    {
     "name": "stdout",
     "output_type": "stream",
     "text": [
      "LL:  True RL:  False -> start new detection cycle\n",
      "New detection not meeting expectations rr:  902.078353851 rp:  1.70973610741\n",
      "LL:  True RL:  False -> start new detection cycle\n",
      "New detection not meeting expectations rr:  1104.78608383 rp:  1.7035663256\n"
     ]
    },
    {
     "name": "stderr",
     "output_type": "stream",
     "text": [
      "\r",
      " 66%|██████▌   | 321/485 [00:57<00:27,  5.98it/s]"
     ]
    },
    {
     "name": "stdout",
     "output_type": "stream",
     "text": [
      "LL:  True RL:  False -> start new detection cycle\n",
      "New detection not meeting expectations rr:  1119.31796572 rp:  1.70993669409\n",
      "LL:  True RL:  False -> start new detection cycle\n",
      "New detection not meeting expectations rr:  1976.30624173 rp:  0.112913220948\n"
     ]
    },
    {
     "name": "stderr",
     "output_type": "stream",
     "text": [
      " 67%|██████▋   | 323/485 [00:57<00:27,  5.96it/s]"
     ]
    },
    {
     "name": "stdout",
     "output_type": "stream",
     "text": [
      "LL:  True RL:  False -> start new detection cycle\n",
      "New detection not meeting expectations rr:  1624.76067945 rp:  0.11783128347\n",
      "LL:  True RL:  False -> start new detection cycle\n",
      "New detection not meeting expectations rr:  1771.39547729 rp:  1.7074111469\n"
     ]
    },
    {
     "name": "stderr",
     "output_type": "stream",
     "text": [
      " 67%|██████▋   | 325/485 [00:58<00:27,  5.87it/s]"
     ]
    },
    {
     "name": "stdout",
     "output_type": "stream",
     "text": [
      "LL:  True RL:  False -> start new detection cycle\n",
      "New detection not meeting expectations rr:  1089.14832145 rp:  1.73275005944\n",
      "LL:  True RL:  False -> start new detection cycle\n",
      "New detection not meeting expectations rr:  1322.1169902 rp:  1.71593210563\n"
     ]
    },
    {
     "name": "stderr",
     "output_type": "stream",
     "text": [
      " 68%|██████▊   | 328/485 [00:58<00:26,  6.02it/s]"
     ]
    },
    {
     "name": "stdout",
     "output_type": "stream",
     "text": [
      "LL:  True RL:  False -> start new detection cycle\n",
      "New detection not meeting expectations rr:  1384.04831403 rp:  1.71797627022\n",
      "LL:  True RL:  False -> start new detection cycle\n",
      "New detection not meeting expectations rr:  3738.54095658 rp:  1.68237046103\n"
     ]
    },
    {
     "name": "stderr",
     "output_type": "stream",
     "text": [
      "\r",
      " 68%|██████▊   | 329/485 [00:58<00:26,  5.94it/s]"
     ]
    },
    {
     "name": "stdout",
     "output_type": "stream",
     "text": [
      "LL:  True RL:  False -> start new detection cycle\n",
      "New detection not meeting expectations rr:  1523.2993378 rp:  1.7219035173\n",
      "LL:  True RL:  False -> start new detection cycle\n"
     ]
    },
    {
     "name": "stderr",
     "output_type": "stream",
     "text": [
      "\r",
      " 68%|██████▊   | 330/485 [00:58<00:26,  5.77it/s]"
     ]
    },
    {
     "name": "stdout",
     "output_type": "stream",
     "text": [
      "New detection not meeting expectations rr:  2364.53786249 rp:  1.70389235484\n",
      "LL:  True RL:  False -> start new detection cycle\n"
     ]
    },
    {
     "name": "stderr",
     "output_type": "stream",
     "text": [
      "\r",
      " 68%|██████▊   | 331/485 [00:59<00:29,  5.28it/s]"
     ]
    },
    {
     "name": "stdout",
     "output_type": "stream",
     "text": [
      "New detection not meeting expectations rr:  2713.41487428 rp:  1.70025992895\n"
     ]
    },
    {
     "name": "stderr",
     "output_type": "stream",
     "text": [
      "\r",
      " 68%|██████▊   | 332/485 [00:59<00:32,  4.74it/s]"
     ]
    },
    {
     "name": "stdout",
     "output_type": "stream",
     "text": [
      "LL:  True RL:  False -> start new detection cycle\n",
      "New detection not meeting expectations rr:  1754.15964405 rp:  1.7201982578\n"
     ]
    },
    {
     "name": "stderr",
     "output_type": "stream",
     "text": [
      "\r",
      " 69%|██████▊   | 333/485 [00:59<00:33,  4.55it/s]"
     ]
    },
    {
     "name": "stdout",
     "output_type": "stream",
     "text": [
      "LL:  True RL:  False -> start new detection cycle\n",
      "New detection not meeting expectations rr:  1757.21912114 rp:  1.72903709359\n",
      "LL:  True RL:  False -> start new detection cycle\n",
      "New detection not meeting expectations rr:  1954.18358361 rp:  1.73516609242\n"
     ]
    },
    {
     "name": "stderr",
     "output_type": "stream",
     "text": [
      " 69%|██████▉   | 335/485 [01:00<00:28,  5.21it/s]"
     ]
    },
    {
     "name": "stdout",
     "output_type": "stream",
     "text": [
      "LL:  True RL:  False -> start new detection cycle\n",
      "New detection not meeting expectations rr:  1907.60491121 rp:  1.73414627551\n",
      "LL:  True RL:  False -> start new detection cycle\n",
      "New detection not meeting expectations rr:  2532.34561873 rp:  1.73264886155\n"
     ]
    },
    {
     "name": "stderr",
     "output_type": "stream",
     "text": [
      " 69%|██████▉   | 337/485 [01:00<00:26,  5.55it/s]"
     ]
    },
    {
     "name": "stdout",
     "output_type": "stream",
     "text": [
      "LL:  True RL:  False -> start new detection cycle\n",
      "New detection not meeting expectations rr:  2274.52219488 rp:  1.73720393793\n",
      "LL:  True RL:  False -> start new detection cycle\n",
      "New detection not meeting expectations rr:  2627.65889013 rp:  1.73516486858\n"
     ]
    },
    {
     "name": "stderr",
     "output_type": "stream",
     "text": [
      " 70%|██████▉   | 339/485 [01:00<00:27,  5.30it/s]"
     ]
    },
    {
     "name": "stdout",
     "output_type": "stream",
     "text": [
      "LL:  True RL:  False -> start new detection cycle\n",
      "New detection not meeting expectations rr:  1735.56097152 rp:  1.76660368782\n"
     ]
    },
    {
     "name": "stderr",
     "output_type": "stream",
     "text": [
      "\r",
      " 70%|███████   | 340/485 [01:01<00:28,  5.01it/s]"
     ]
    },
    {
     "name": "stdout",
     "output_type": "stream",
     "text": [
      "LL:  True RL:  False -> start new detection cycle\n",
      "New detection not meeting expectations rr:  4675.43247352 rp:  1.6941305092\n",
      "LL:  True RL:  False -> start new detection cycle\n",
      "New detection not meeting expectations rr:  86180.7006049 rp:  1.68845801952\n"
     ]
    },
    {
     "name": "stderr",
     "output_type": "stream",
     "text": [
      " 71%|███████   | 343/485 [01:01<00:25,  5.65it/s]"
     ]
    },
    {
     "name": "stdout",
     "output_type": "stream",
     "text": [
      "LL:  True RL:  False -> start new detection cycle\n",
      "New detection not meeting expectations rr:  4732.27319498 rp:  1.7055580485\n",
      "LL:  True RL:  False -> start new detection cycle\n",
      "New detection not meeting expectations rr:  2607.884259 rp:  1.70732839331\n"
     ]
    },
    {
     "name": "stderr",
     "output_type": "stream",
     "text": [
      "\r",
      " 71%|███████   | 344/485 [01:01<00:26,  5.35it/s]"
     ]
    },
    {
     "name": "stdout",
     "output_type": "stream",
     "text": [
      "LL:  True RL:  False -> start new detection cycle\n",
      "New detection not meeting expectations rr:  5302.53807402 rp:  1.69989582129\n"
     ]
    },
    {
     "name": "stderr",
     "output_type": "stream",
     "text": [
      "\r",
      " 71%|███████   | 345/485 [01:01<00:27,  5.08it/s]"
     ]
    },
    {
     "name": "stdout",
     "output_type": "stream",
     "text": [
      "LL:  True RL:  False -> start new detection cycle\n",
      "New detection not meeting expectations rr:  7756.90330342 rp:  1.72419365127\n"
     ]
    },
    {
     "name": "stderr",
     "output_type": "stream",
     "text": [
      "\r",
      " 71%|███████▏  | 346/485 [01:02<00:27,  5.09it/s]"
     ]
    },
    {
     "name": "stdout",
     "output_type": "stream",
     "text": [
      "LL:  True RL:  False -> start new detection cycle\n",
      "New detection not meeting expectations rr:  6737.03348898 rp:  1.72274172896\n",
      "LL:  True RL:  False -> start new detection cycle\n",
      "New detection not meeting expectations rr:  10873.0947873 rp:  1.7012958038\n"
     ]
    },
    {
     "name": "stderr",
     "output_type": "stream",
     "text": [
      " 72%|███████▏  | 348/485 [01:02<00:29,  4.69it/s]"
     ]
    },
    {
     "name": "stdout",
     "output_type": "stream",
     "text": [
      "LL:  True RL:  False -> start new detection cycle\n",
      "New detection not meeting expectations rr:  2356.46932852 rp:  1.70230478048\n",
      "LL:  True RL:  False -> start new detection cycle\n"
     ]
    },
    {
     "name": "stderr",
     "output_type": "stream",
     "text": [
      "\r",
      " 72%|███████▏  | 349/485 [01:02<00:27,  4.88it/s]"
     ]
    },
    {
     "name": "stdout",
     "output_type": "stream",
     "text": [
      "New detection not meeting expectations rr:  1522.84004051 rp:  1.72756122955\n"
     ]
    },
    {
     "name": "stderr",
     "output_type": "stream",
     "text": [
      "\r",
      " 72%|███████▏  | 350/485 [01:02<00:28,  4.74it/s]"
     ]
    },
    {
     "name": "stdout",
     "output_type": "stream",
     "text": [
      "LL:  True RL:  False -> start new detection cycle\n",
      "New detection not meeting expectations rr:  1964.81467795 rp:  1.72519943157\n"
     ]
    },
    {
     "name": "stderr",
     "output_type": "stream",
     "text": [
      "\r",
      " 72%|███████▏  | 351/485 [01:03<00:27,  4.80it/s]"
     ]
    },
    {
     "name": "stdout",
     "output_type": "stream",
     "text": [
      "LL:  True RL:  False -> start new detection cycle\n",
      "New detection not meeting expectations rr:  1342.12906227 rp:  1.75049924395\n",
      "LL:  True RL:  False -> start new detection cycle\n",
      "New detection not meeting expectations rr:  1266.55345007 rp:  1.74953242278\n"
     ]
    },
    {
     "name": "stderr",
     "output_type": "stream",
     "text": [
      " 73%|███████▎  | 353/485 [01:03<00:28,  4.62it/s]"
     ]
    },
    {
     "name": "stdout",
     "output_type": "stream",
     "text": [
      "LL:  True RL:  False -> start new detection cycle\n",
      "New detection not meeting expectations rr:  971.445720636 rp:  1.79550506904\n"
     ]
    },
    {
     "name": "stderr",
     "output_type": "stream",
     "text": [
      " 73%|███████▎  | 355/485 [01:03<00:25,  5.14it/s]"
     ]
    },
    {
     "name": "stdout",
     "output_type": "stream",
     "text": [
      "LL:  True RL:  False -> start new detection cycle\n",
      "New detection not meeting expectations rr:  17101.8475474 rp:  0.147551054945\n",
      "LL:  True RL:  False -> start new detection cycle\n",
      "New detection not meeting expectations rr:  1071.36424315 rp:  1.78739601206\n"
     ]
    },
    {
     "name": "stderr",
     "output_type": "stream",
     "text": [
      "\r",
      " 73%|███████▎  | 356/485 [01:04<00:25,  5.10it/s]"
     ]
    },
    {
     "name": "stdout",
     "output_type": "stream",
     "text": [
      "LL:  True RL:  False -> start new detection cycle\n",
      "New detection not meeting expectations rr:  977.394048701 rp:  1.78188272625\n"
     ]
    },
    {
     "name": "stderr",
     "output_type": "stream",
     "text": [
      "\r",
      " 74%|███████▎  | 357/485 [01:04<00:27,  4.59it/s]"
     ]
    },
    {
     "name": "stdout",
     "output_type": "stream",
     "text": [
      "LL:  True RL:  False -> start new detection cycle\n",
      "New detection not meeting expectations rr:  1511.39962459 rp:  1.75426996516\n"
     ]
    },
    {
     "name": "stderr",
     "output_type": "stream",
     "text": [
      "\r",
      " 74%|███████▍  | 358/485 [01:04<00:27,  4.60it/s]"
     ]
    },
    {
     "name": "stdout",
     "output_type": "stream",
     "text": [
      "LL:  True RL:  False -> start new detection cycle\n",
      "New detection not meeting expectations rr:  1000.67853637 rp:  1.77729031746\n"
     ]
    },
    {
     "name": "stderr",
     "output_type": "stream",
     "text": [
      "\r",
      " 74%|███████▍  | 359/485 [01:04<00:28,  4.47it/s]"
     ]
    },
    {
     "name": "stdout",
     "output_type": "stream",
     "text": [
      "LL:  True RL:  False -> start new detection cycle\n",
      "New detection not meeting expectations rr:  1233.83167721 rp:  1.76677595026\n"
     ]
    },
    {
     "name": "stderr",
     "output_type": "stream",
     "text": [
      "\r",
      " 74%|███████▍  | 360/485 [01:05<00:27,  4.61it/s]"
     ]
    },
    {
     "name": "stdout",
     "output_type": "stream",
     "text": [
      "LL:  True RL:  False -> start new detection cycle\n",
      "New detection not meeting expectations rr:  1134.07684155 rp:  1.75184243594\n"
     ]
    },
    {
     "name": "stderr",
     "output_type": "stream",
     "text": [
      "\r",
      " 74%|███████▍  | 361/485 [01:05<00:27,  4.52it/s]"
     ]
    },
    {
     "name": "stdout",
     "output_type": "stream",
     "text": [
      "LL:  True RL:  False -> start new detection cycle\n",
      "New detection not meeting expectations rr:  941.05876468 rp:  1.75699060004\n",
      "LL:  True RL:  False -> start new detection cycle\n"
     ]
    },
    {
     "name": "stderr",
     "output_type": "stream",
     "text": [
      " 75%|███████▍  | 363/485 [01:05<00:23,  5.14it/s]"
     ]
    },
    {
     "name": "stdout",
     "output_type": "stream",
     "text": [
      "New detection not meeting expectations rr:  679.792159295 rp:  1.76918575941\n",
      "LL:  True RL:  False -> start new detection cycle\n",
      "New detection not meeting expectations rr:  1029.66194991 rp:  1.7418014452\n"
     ]
    },
    {
     "name": "stderr",
     "output_type": "stream",
     "text": [
      "\r",
      " 75%|███████▌  | 364/485 [01:05<00:24,  5.01it/s]"
     ]
    },
    {
     "name": "stdout",
     "output_type": "stream",
     "text": [
      "LL:  True RL:  False -> start new detection cycle\n",
      "New detection not meeting expectations rr:  855.875020169 rp:  1.73579454738\n"
     ]
    },
    {
     "name": "stderr",
     "output_type": "stream",
     "text": [
      "\r",
      " 75%|███████▌  | 365/485 [01:06<00:25,  4.77it/s]"
     ]
    },
    {
     "name": "stdout",
     "output_type": "stream",
     "text": [
      "LL:  True RL:  False -> start new detection cycle\n",
      "New detection not meeting expectations rr:  762.070894281 rp:  1.74982449412\n",
      "LL:  True RL:  False -> start new detection cycle\n",
      "New detection not meeting expectations rr:  692.055098206 rp:  1.73929600019\n"
     ]
    },
    {
     "name": "stderr",
     "output_type": "stream",
     "text": [
      " 76%|███████▌  | 367/485 [01:06<00:24,  4.79it/s]"
     ]
    },
    {
     "name": "stdout",
     "output_type": "stream",
     "text": [
      "LL:  True RL:  False -> start new detection cycle\n",
      "New detection not meeting expectations rr:  16659.0820629 rp:  0.0840999115636\n"
     ]
    },
    {
     "name": "stderr",
     "output_type": "stream",
     "text": [
      "\r",
      " 76%|███████▌  | 368/485 [01:06<00:24,  4.77it/s]"
     ]
    },
    {
     "name": "stdout",
     "output_type": "stream",
     "text": [
      "LL:  True RL:  False -> start new detection cycle\n",
      "New detection not meeting expectations rr:  535.775133652 rp:  1.76650377685\n",
      "LL:  True RL:  False -> start new detection cycle\n"
     ]
    },
    {
     "name": "stderr",
     "output_type": "stream",
     "text": [
      "\r",
      " 76%|███████▌  | 369/485 [01:06<00:23,  4.91it/s]"
     ]
    },
    {
     "name": "stdout",
     "output_type": "stream",
     "text": [
      "New detection not meeting expectations rr:  579.426396183 rp:  1.74087774201\n",
      "LL:  True RL:  False -> start new detection cycle\n",
      "New detection not meeting expectations rr:  611.837266695 rp:  1.76321066891\n"
     ]
    },
    {
     "name": "stderr",
     "output_type": "stream",
     "text": [
      " 76%|███████▋  | 371/485 [01:07<00:21,  5.23it/s]"
     ]
    },
    {
     "name": "stdout",
     "output_type": "stream",
     "text": [
      "LL:  True RL:  False -> start new detection cycle\n",
      "New detection not meeting expectations rr:  632.242562905 rp:  1.74982393065\n",
      "LL:  True RL:  False -> start new detection cycle\n",
      "New detection not meeting expectations rr:  671.504546634 rp:  1.74039402936\n"
     ]
    },
    {
     "name": "stderr",
     "output_type": "stream",
     "text": [
      " 77%|███████▋  | 373/485 [01:07<00:21,  5.31it/s]"
     ]
    },
    {
     "name": "stdout",
     "output_type": "stream",
     "text": [
      "LL:  True RL:  False -> start new detection cycle\n",
      "New detection not meeting expectations rr:  619.479665264 rp:  1.74599656238\n",
      "LL:  True RL:  False -> start new detection cycle\n",
      "New detection not meeting expectations rr:  621.360123857 rp:  1.74242770451\n"
     ]
    },
    {
     "name": "stderr",
     "output_type": "stream",
     "text": [
      " 77%|███████▋  | 375/485 [01:08<00:19,  5.53it/s]"
     ]
    },
    {
     "name": "stdout",
     "output_type": "stream",
     "text": [
      "LL:  True RL:  False -> start new detection cycle\n",
      "New detection not meeting expectations rr:  646.407224567 rp:  1.73381596892\n",
      "LL:  True RL:  False -> start new detection cycle\n",
      "New detection not meeting expectations rr:  717.589430201 rp:  1.70228603571\n"
     ]
    },
    {
     "name": "stderr",
     "output_type": "stream",
     "text": [
      " 78%|███████▊  | 377/485 [01:08<00:22,  4.89it/s]"
     ]
    },
    {
     "name": "stdout",
     "output_type": "stream",
     "text": [
      "LL:  True RL:  False -> start new detection cycle\n",
      "New detection not meeting expectations rr:  704.373124422 rp:  1.70668024638\n"
     ]
    },
    {
     "name": "stderr",
     "output_type": "stream",
     "text": [
      "\r",
      " 78%|███████▊  | 378/485 [01:08<00:22,  4.84it/s]"
     ]
    },
    {
     "name": "stdout",
     "output_type": "stream",
     "text": [
      "LL:  True RL:  False -> start new detection cycle\n",
      "New detection not meeting expectations rr:  718.165754803 rp:  1.68839443889\n",
      "LL:  True RL:  False -> start new detection cycle\n"
     ]
    },
    {
     "name": "stderr",
     "output_type": "stream",
     "text": [
      "\r",
      " 78%|███████▊  | 379/485 [01:08<00:21,  5.04it/s]"
     ]
    },
    {
     "name": "stdout",
     "output_type": "stream",
     "text": [
      "New detection not meeting expectations rr:  778.66780365 rp:  1.69821817846\n",
      "LL:  True RL:  False -> start new detection cycle\n",
      "New detection not meeting expectations rr:  27640.2627577 rp:  0.00829811059318\n"
     ]
    },
    {
     "name": "stderr",
     "output_type": "stream",
     "text": [
      " 79%|███████▊  | 381/485 [01:09<00:20,  5.20it/s]"
     ]
    },
    {
     "name": "stdout",
     "output_type": "stream",
     "text": [
      "LL:  True RL:  False -> start new detection cycle\n",
      "New detection not meeting expectations rr:  8616.38546476 rp:  0.00436694222372\n",
      "LL:  True RL:  False -> start new detection cycle\n",
      "New detection not meeting expectations rr:  25522.1461906 rp:  0.00839238317272\n"
     ]
    },
    {
     "name": "stderr",
     "output_type": "stream",
     "text": [
      " 79%|███████▉  | 383/485 [01:09<00:19,  5.24it/s]"
     ]
    },
    {
     "name": "stdout",
     "output_type": "stream",
     "text": [
      "LL:  True RL:  False -> start new detection cycle\n",
      "New detection not meeting expectations lr:  4027.85254924 lp:  2.04190084333\n",
      "New detection not meeting expectations rr:  45535.8450108 rp:  0.0182623227132\n"
     ]
    },
    {
     "name": "stderr",
     "output_type": "stream",
     "text": [
      "\r",
      " 79%|███████▉  | 384/485 [01:09<00:20,  4.94it/s]"
     ]
    },
    {
     "name": "stdout",
     "output_type": "stream",
     "text": [
      "LL:  True RL:  False -> start new detection cycle\n",
      "New detection not meeting expectations lr:  2447.16555831 lp:  2.0232184259\n",
      "New detection not meeting expectations rr:  77819.1658767 rp:  0.0274048491339\n",
      "LL:  True RL:  False -> start new detection cycle\n"
     ]
    },
    {
     "name": "stderr",
     "output_type": "stream",
     "text": [
      "\r",
      " 79%|███████▉  | 385/485 [01:10<00:19,  5.06it/s]"
     ]
    },
    {
     "name": "stdout",
     "output_type": "stream",
     "text": [
      "New detection not meeting expectations lr:  2789.82342416 lp:  2.03220119861\n",
      "New detection not meeting expectations rr:  22165.7317656 rp:  0.0322434418474\n",
      "LL:  True RL:  False -> start new detection cycle\n",
      "New detection not meeting expectations lr:  4118.22199877 lp:  2.07476652581\n",
      "New detection not meeting expectations rr:  1005.41529867 rp:  1.63826019109\n"
     ]
    },
    {
     "name": "stderr",
     "output_type": "stream",
     "text": [
      " 80%|███████▉  | 387/485 [01:10<00:19,  4.91it/s]"
     ]
    },
    {
     "name": "stdout",
     "output_type": "stream",
     "text": [
      "LL:  True RL:  False -> start new detection cycle\n",
      "New detection not meeting expectations lr:  3940.88719198 lp:  2.07740607812\n",
      "New detection not meeting expectations rr:  44292.3516489 rp:  0.0585979101886\n"
     ]
    },
    {
     "name": "stderr",
     "output_type": "stream",
     "text": [
      "\r",
      " 80%|████████  | 388/485 [01:10<00:20,  4.74it/s]"
     ]
    },
    {
     "name": "stdout",
     "output_type": "stream",
     "text": [
      "LL:  True RL:  False -> start new detection cycle\n",
      "New detection not meeting expectations lr:  2794.24913271 lp:  2.07412128518\n",
      "New detection not meeting expectations rr:  14598.402834 rp:  0.0640099073108\n",
      "LL:  True RL:  False -> start new detection cycle\n",
      "New detection not meeting expectations lr:  4547.3709005 lp:  2.12143291888\n",
      "New detection not meeting expectations rr:  7865.87195853 rp:  0.0670215265786\n"
     ]
    },
    {
     "name": "stderr",
     "output_type": "stream",
     "text": [
      " 80%|████████  | 390/485 [01:11<00:18,  5.14it/s]"
     ]
    },
    {
     "name": "stdout",
     "output_type": "stream",
     "text": [
      "LL:  True RL:  False -> start new detection cycle\n",
      "New detection not meeting expectations lr:  2735.56766393 lp:  2.11553198992\n",
      "New detection not meeting expectations rr:  12371.8429944 rp:  0.0789461585501\n",
      "LL:  True RL:  False -> start new detection cycle\n",
      "New detection not meeting expectations lr:  1715.57331561 lp:  2.09063519356\n",
      "New detection not meeting expectations rr:  24176.3119479 rp:  0.0901260107182\n"
     ]
    },
    {
     "name": "stderr",
     "output_type": "stream",
     "text": [
      " 81%|████████  | 392/485 [01:11<00:17,  5.39it/s]"
     ]
    },
    {
     "name": "stdout",
     "output_type": "stream",
     "text": [
      "LL:  True RL:  False -> start new detection cycle\n",
      "New detection not meeting expectations lr:  1748.57464723 lp:  2.12883272449\n",
      "New detection not meeting expectations rr:  14648.7218363 rp:  0.0988641501944\n"
     ]
    },
    {
     "name": "stderr",
     "output_type": "stream",
     "text": [
      "\r",
      " 81%|████████  | 393/485 [01:11<00:19,  4.81it/s]"
     ]
    },
    {
     "name": "stdout",
     "output_type": "stream",
     "text": [
      "LL:  True RL:  False -> start new detection cycle\n",
      "New detection not meeting expectations rr:  12170.6930464 rp:  0.105714895313\n"
     ]
    },
    {
     "name": "stderr",
     "output_type": "stream",
     "text": [
      "\r",
      " 81%|████████  | 394/485 [01:11<00:18,  4.89it/s]"
     ]
    },
    {
     "name": "stdout",
     "output_type": "stream",
     "text": [
      "LL:  True RL:  False -> start new detection cycle\n",
      "New detection not meeting expectations rr:  23577.5843883 rp:  0.118074987773\n"
     ]
    },
    {
     "name": "stderr",
     "output_type": "stream",
     "text": [
      "\r",
      " 81%|████████▏ | 395/485 [01:12<00:18,  4.77it/s]"
     ]
    },
    {
     "name": "stdout",
     "output_type": "stream",
     "text": [
      "LL:  True RL:  False -> start new detection cycle\n",
      "New detection not meeting expectations rr:  11590.0612661 rp:  0.120785580897\n",
      "LL:  True RL:  False -> start new detection cycle\n",
      "New detection not meeting expectations rr:  13303.6279558 rp:  0.132953494988\n"
     ]
    },
    {
     "name": "stderr",
     "output_type": "stream",
     "text": [
      " 82%|████████▏ | 398/485 [01:12<00:15,  5.50it/s]"
     ]
    },
    {
     "name": "stdout",
     "output_type": "stream",
     "text": [
      "LL:  True RL:  False -> start new detection cycle\n",
      "New detection not meeting expectations rr:  28189.4751947 rp:  0.146334536536\n",
      "LL:  True RL:  False -> start new detection cycle\n",
      "New detection not meeting expectations rr:  12352.9313427 rp:  0.152119239856\n"
     ]
    },
    {
     "name": "stderr",
     "output_type": "stream",
     "text": [
      "\r",
      " 82%|████████▏ | 399/485 [01:12<00:15,  5.63it/s]"
     ]
    },
    {
     "name": "stdout",
     "output_type": "stream",
     "text": [
      "LL:  True RL:  False -> start new detection cycle\n",
      "New detection not meeting expectations rr:  3981.72305155 rp:  1.56795132138\n",
      "LL:  True "
     ]
    },
    {
     "name": "stderr",
     "output_type": "stream",
     "text": [
      "\r",
      " 82%|████████▏ | 400/485 [01:12<00:15,  5.35it/s]"
     ]
    },
    {
     "name": "stdout",
     "output_type": "stream",
     "text": [
      "RL:  False -> start new detection cycle\n",
      "New detection not meeting expectations rr:  3172.27888446 rp:  1.58404669172\n",
      "LL:  True RL:  False -> start new detection cycle\n"
     ]
    },
    {
     "name": "stderr",
     "output_type": "stream",
     "text": [
      " 83%|████████▎ | 402/485 [01:13<00:15,  5.41it/s]"
     ]
    },
    {
     "name": "stdout",
     "output_type": "stream",
     "text": [
      "New detection not meeting expectations rr:  2314.64563285 rp:  1.60652622061\n",
      "LL:  True RL:  False -> start new detection cycle\n",
      "New detection not meeting expectations rr:  3094.90644889 rp:  1.61166091409\n"
     ]
    },
    {
     "name": "stderr",
     "output_type": "stream",
     "text": [
      "\r",
      " 83%|████████▎ | 403/485 [01:13<00:15,  5.40it/s]"
     ]
    },
    {
     "name": "stdout",
     "output_type": "stream",
     "text": [
      "LL:  True RL:  False -> start new detection cycle\n",
      "New detection not meeting expectations rr:  9719.00378306 rp:  1.61051396517\n",
      "LL:  True RL:  False -> start new detection cycle\n"
     ]
    },
    {
     "name": "stderr",
     "output_type": "stream",
     "text": [
      "\r",
      " 83%|████████▎ | 404/485 [01:13<00:16,  4.92it/s]"
     ]
    },
    {
     "name": "stdout",
     "output_type": "stream",
     "text": [
      "New detection not meeting expectations rr:  3501.21711507 rp:  1.62876308234\n"
     ]
    },
    {
     "name": "stderr",
     "output_type": "stream",
     "text": [
      "\r",
      " 84%|████████▎ | 405/485 [01:13<00:17,  4.70it/s]"
     ]
    },
    {
     "name": "stdout",
     "output_type": "stream",
     "text": [
      "LL:  True RL:  False -> start new detection cycle\n",
      "New detection not meeting expectations rr:  16107.6661135 rp:  1.62120607988\n",
      "LL:  True RL:  False -> start new detection cycle\n",
      "New detection not meeting expectations rr: "
     ]
    },
    {
     "name": "stderr",
     "output_type": "stream",
     "text": [
      "\r",
      " 84%|████████▎ | 406/485 [01:14<00:16,  4.89it/s]"
     ]
    },
    {
     "name": "stdout",
     "output_type": "stream",
     "text": [
      " 4438.31979914 rp:  1.62036186442\n"
     ]
    },
    {
     "name": "stderr",
     "output_type": "stream",
     "text": [
      "\r",
      " 84%|████████▍ | 407/485 [01:14<00:17,  4.51it/s]"
     ]
    },
    {
     "name": "stdout",
     "output_type": "stream",
     "text": [
      "LL:  True RL:  False -> start new detection cycle\n",
      "New detection not meeting expectations rr:  3404.82534271 rp:  1.64229399002\n"
     ]
    },
    {
     "name": "stderr",
     "output_type": "stream",
     "text": [
      "\r",
      " 84%|████████▍ | 408/485 [01:14<00:17,  4.47it/s]"
     ]
    },
    {
     "name": "stdout",
     "output_type": "stream",
     "text": [
      "LL:  True RL:  False -> start new detection cycle\n",
      "New detection not meeting expectations rr:  2950.77287792 rp:  1.65233567273\n"
     ]
    },
    {
     "name": "stderr",
     "output_type": "stream",
     "text": [
      "\r",
      " 84%|████████▍ | 409/485 [01:14<00:17,  4.45it/s]"
     ]
    },
    {
     "name": "stdout",
     "output_type": "stream",
     "text": [
      "LL:  True RL:  False -> start new detection cycle\n",
      "New detection not meeting expectations rr:  2986.13205893 rp:  1.68534931769\n",
      "LL:  True RL:  False -> start new detection cycle\n",
      "New detection not meeting expectations rr:  2738.14553697 rp:  1.70753958449\n"
     ]
    },
    {
     "name": "stderr",
     "output_type": "stream",
     "text": [
      " 85%|████████▍ | 411/485 [01:15<00:15,  4.71it/s]"
     ]
    },
    {
     "name": "stdout",
     "output_type": "stream",
     "text": [
      "LL:  True RL:  False -> start new detection cycle\n",
      "New detection not meeting expectations lr:  1009.76603302 lp:  2.2365871856\n",
      "New detection not meeting expectations rr:  3072.95468539 rp:  1.72495538065\n"
     ]
    },
    {
     "name": "stderr",
     "output_type": "stream",
     "text": [
      "\r",
      " 85%|████████▍ | 412/485 [01:15<00:16,  4.53it/s]"
     ]
    },
    {
     "name": "stdout",
     "output_type": "stream",
     "text": [
      "LL:  True RL:  False -> start new detection cycle\n",
      "New detection not meeting expectations lr:  1100.67822669 lp:  2.2807032331\n",
      "New detection not meeting expectations rr:  69522.0177422 rp:  1.70789726664\n",
      "LL:  True RL:  False -> start new detection cycle\n"
     ]
    },
    {
     "name": "stderr",
     "output_type": "stream",
     "text": [
      " 85%|████████▌ | 414/485 [01:15<00:14,  5.04it/s]"
     ]
    },
    {
     "name": "stdout",
     "output_type": "stream",
     "text": [
      "New detection not meeting expectations lr:  1151.18094154 lp:  2.29873211726\n",
      "New detection not meeting expectations rr:  17940.9814101 rp:  1.70364532497\n",
      "LL:  True RL:  False -> start new detection cycle\n",
      "New detection not meeting expectations rr:  9133.22680941 rp:  1.69520486626\n"
     ]
    },
    {
     "name": "stderr",
     "output_type": "stream",
     "text": [
      "\r",
      " 86%|████████▌ | 415/485 [01:16<00:13,  5.28it/s]"
     ]
    },
    {
     "name": "stdout",
     "output_type": "stream",
     "text": [
      "LL:  True RL:  False -> start new detection cycle\n",
      "New detection not meeting expectations lr:  1744.15415006 lp:  2.33322577478\n",
      "New detection not meeting expectations rr:  3947.77953126 rp:  1.71733039093\n",
      "LL:  True RL:  False -> start new detection cycle\n",
      "New detection not meeting expectations rr:  6115.97520781 rp:  1.71290337183\n"
     ]
    },
    {
     "name": "stderr",
     "output_type": "stream",
     "text": [
      " 86%|████████▌ | 417/485 [01:16<00:13,  5.02it/s]"
     ]
    },
    {
     "name": "stdout",
     "output_type": "stream",
     "text": [
      "LL:  True RL:  False -> start new detection cycle\n",
      "New detection not meeting expectations rr:  4562.07804208 rp:  1.72341348482\n"
     ]
    },
    {
     "name": "stderr",
     "output_type": "stream",
     "text": [
      "\r",
      " 86%|████████▌ | 418/485 [01:16<00:13,  4.91it/s]"
     ]
    },
    {
     "name": "stdout",
     "output_type": "stream",
     "text": [
      "LL:  True RL:  False -> start new detection cycle\n",
      "New detection not meeting expectations rr:  12030.2756898 rp:  1.72501447686\n",
      "LL:  True RL:  False -> start new detection cycle\n",
      "New detection not meeting expectations rr:  7685.26268895 rp:  1.72872221906\n"
     ]
    },
    {
     "name": "stderr",
     "output_type": "stream",
     "text": [
      " 87%|████████▋ | 420/485 [01:16<00:12,  5.40it/s]"
     ]
    },
    {
     "name": "stdout",
     "output_type": "stream",
     "text": [
      "LL:  True RL:  False -> start new detection cycle\n",
      "New detection not meeting expectations rr:  16304.613384 rp:  1.75187763226\n",
      "LL:  True RL:  False -> start new detection cycle\n",
      "New detection not meeting expectations rr:  1556.30423808 rp:  1.73921641124\n"
     ]
    },
    {
     "name": "stderr",
     "output_type": "stream",
     "text": [
      " 87%|████████▋ | 423/485 [01:17<00:10,  5.80it/s]"
     ]
    },
    {
     "name": "stdout",
     "output_type": "stream",
     "text": [
      "LL:  True RL:  False -> start new detection cycle\n",
      "New detection not meeting expectations rr:  2134.37491974 rp:  1.77602646672\n",
      "LL:  True RL:  False -> start new detection cycle\n",
      "New detection not meeting expectations rr:  2034.33870668 rp:  1.91738376184\n"
     ]
    },
    {
     "name": "stderr",
     "output_type": "stream",
     "text": [
      "\r",
      " 87%|████████▋ | 424/485 [01:17<00:10,  5.79it/s]"
     ]
    },
    {
     "name": "stdout",
     "output_type": "stream",
     "text": [
      "LL:  True RL:  False -> start new detection cycle\n"
     ]
    },
    {
     "name": "stderr",
     "output_type": "stream",
     "text": [
      " 88%|████████▊ | 429/485 [01:18<00:09,  5.98it/s]"
     ]
    },
    {
     "name": "stdout",
     "output_type": "stream",
     "text": [
      "LL:  False RL:  True -> start new detection cycle\n",
      "New detection not meeting expectations lr:  122.62365436 lp:  0.31107759412\n",
      "New detection not meeting expectations rr:  4615.68937648 rp:  1.87878136937\n",
      "LL:  False RL:  True -> start new detection cycle\n",
      "New detection not meeting expectations rr:  2235.34984615 rp:  1.93933517779\n"
     ]
    },
    {
     "name": "stderr",
     "output_type": "stream",
     "text": [
      " 89%|████████▉ | 432/485 [01:18<00:08,  6.08it/s]"
     ]
    },
    {
     "name": "stdout",
     "output_type": "stream",
     "text": [
      "LL:  False RL:  True -> start new detection cycle\n",
      "New detection not meeting expectations rr:  4113.02893122 rp:  1.95617873925\n"
     ]
    },
    {
     "name": "stderr",
     "output_type": "stream",
     "text": [
      " 91%|█████████ | 440/485 [01:20<00:07,  5.99it/s]"
     ]
    },
    {
     "name": "stdout",
     "output_type": "stream",
     "text": [
      "LL:  True RL:  False -> start new detection cycle\n",
      "New detection not meeting expectations lr:  6648.03132955 lp:  2.95802279087\n"
     ]
    },
    {
     "name": "stderr",
     "output_type": "stream",
     "text": [
      " 93%|█████████▎| 452/485 [01:22<00:05,  6.01it/s]"
     ]
    },
    {
     "name": "stdout",
     "output_type": "stream",
     "text": [
      "LL:  True RL:  False -> start new detection cycle\n"
     ]
    },
    {
     "name": "stderr",
     "output_type": "stream",
     "text": [
      " 96%|█████████▌| 466/485 [01:24<00:03,  6.11it/s]"
     ]
    },
    {
     "name": "stdout",
     "output_type": "stream",
     "text": [
      "LL:  True RL:  False -> start new detection cycle\n"
     ]
    },
    {
     "name": "stderr",
     "output_type": "stream",
     "text": [
      " 97%|█████████▋| 469/485 [01:25<00:02,  6.11it/s]"
     ]
    },
    {
     "name": "stdout",
     "output_type": "stream",
     "text": [
      "LL:  True RL:  False -> start new detection cycle\n"
     ]
    },
    {
     "name": "stderr",
     "output_type": "stream",
     "text": [
      " 97%|█████████▋| 472/485 [01:25<00:02,  6.06it/s]"
     ]
    },
    {
     "name": "stdout",
     "output_type": "stream",
     "text": [
      "LL:  True RL:  False -> start new detection cycle\n"
     ]
    },
    {
     "name": "stderr",
     "output_type": "stream",
     "text": [
      " 99%|█████████▉| 479/485 [01:26<00:01,  5.71it/s]"
     ]
    },
    {
     "name": "stdout",
     "output_type": "stream",
     "text": [
      "LL:  True RL:  False -> start new detection cycle\n",
      "New detection not meeting expectations lr:  14612.1149983 lp:  3.5631924047\n"
     ]
    },
    {
     "name": "stderr",
     "output_type": "stream",
     "text": [
      " 99%|█████████▉| 481/485 [01:27<00:00,  5.66it/s]"
     ]
    },
    {
     "name": "stdout",
     "output_type": "stream",
     "text": [
      "LL:  False RL:  False -> start new detection cycle\n",
      "New detection not meeting expectations lr:  15707.6771658 lp:  3.55581052284\n",
      "LL:  False RL:  True -> start new detection cycle\n",
      "New detection not meeting expectations lr:  7301.19549903 lp:  3.55239526053\n"
     ]
    },
    {
     "name": "stderr",
     "output_type": "stream",
     "text": [
      "100%|█████████▉| 483/485 [01:27<00:00,  5.77it/s]"
     ]
    },
    {
     "name": "stdout",
     "output_type": "stream",
     "text": [
      "LL:  False RL:  True -> start new detection cycle\n",
      "New detection not meeting expectations lr:  104974.230502 lp:  3.54813444331\n",
      "LL:  False RL:  True -> start new detection cycle\n",
      "New detection not meeting expectations lr:  4381.38888793 lp:  3.50529945917\n"
     ]
    },
    {
     "name": "stderr",
     "output_type": "stream",
     "text": [
      "100%|██████████| 485/485 [01:27<00:00,  5.79it/s]\n"
     ]
    },
    {
     "name": "stdout",
     "output_type": "stream",
     "text": [
      "LL:  False RL:  True -> start new detection cycle\n",
      "New detection not meeting expectations lr:  4381.38888793 lp:  3.50529945917\n",
      "[MoviePy] Done.\n",
      "[MoviePy] >>>> Video ready: ./processed_challenge_video.mp4 \n",
      "\n",
      "CPU times: user 2min 56s, sys: 4.85 s, total: 3min\n",
      "Wall time: 1min 29s\n"
     ]
    }
   ],
   "source": [
    "LL = Line()\n",
    "RL = Line()\n",
    "\n",
    "out_dir='./'\n",
    "output = out_dir + 'processed_challenge_video.mp4'\n",
    "clip = VideoFileClip('challenge_video.mp4')\n",
    "out_clip = clip.fl_image(process_image) \n",
    "%time out_clip.write_videofile(output, audio=False)"
   ]
  },
  {
   "cell_type": "code",
   "execution_count": null,
   "metadata": {
    "collapsed": true
   },
   "outputs": [],
   "source": []
  }
 ],
 "metadata": {
  "anaconda-cloud": {},
  "kernelspec": {
   "display_name": "Python 3",
   "language": "python",
   "name": "python3"
  },
  "language_info": {
   "codemirror_mode": {
    "name": "ipython",
    "version": 3
   },
   "file_extension": ".py",
   "mimetype": "text/x-python",
   "name": "python",
   "nbconvert_exporter": "python",
   "pygments_lexer": "ipython3",
   "version": "3.5.2"
  },
  "widgets": {
   "state": {},
   "version": "1.1.2"
  }
 },
 "nbformat": 4,
 "nbformat_minor": 1
}
