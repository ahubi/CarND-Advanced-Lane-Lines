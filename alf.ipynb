{
 "cells": [
  {
   "cell_type": "markdown",
   "metadata": {
    "deletable": true,
    "editable": true
   },
   "source": [
    "## Advanced Lane Finding Project\n",
    "\n",
    "The goals / steps of this project are the following:\n",
    "\n",
    "* Compute the camera calibration matrix and distortion coefficients given a set of chessboard images.\n",
    "* Apply a distortion correction to raw images.\n",
    "* Use color transforms, gradients, etc., to create a thresholded binary image.\n",
    "* Apply a perspective transform to rectify binary image (\"birds-eye view\").\n",
    "* Detect lane pixels and fit to find the lane boundary.\n",
    "* Determine the curvature of the lane and vehicle position with respect to center.\n",
    "* Warp the detected lane boundaries back onto the original image.\n",
    "* Output visual display of the lane boundaries and numerical estimation of lane curvature and vehicle position.\n",
    "\n",
    "---\n",
    "## First, I'll compute the camera calibration using chessboard images"
   ]
  },
  {
   "cell_type": "code",
   "execution_count": 17,
   "metadata": {
    "collapsed": false,
    "deletable": true,
    "editable": true
   },
   "outputs": [],
   "source": [
    "import numpy as np\n",
    "import cv2\n",
    "import glob\n",
    "import matplotlib.pyplot as plt\n",
    "import matplotlib.image as mpimg\n",
    "import os\n",
    "%matplotlib qt\n",
    "\n",
    "def store_image(img, img_dir, fname):\n",
    "    if not os.path.exists(img_dir):\n",
    "        os.makedirs(img_dir)\n",
    "    img_path = img_dir + fname.split('/')[-1]\n",
    "    #print(img_path)\n",
    "    cv2.imwrite(img_path, img)\n",
    "        \n",
    "def calibrate_camera():\n",
    "    # prepare object points, like (0,0,0), (1,0,0), (2,0,0) ....,(6,5,0)\n",
    "    objp = np.zeros((6*9,3), np.float32)\n",
    "    objp[:,:2] = np.mgrid[0:9,0:6].T.reshape(-1,2)\n",
    "\n",
    "    # Arrays to store object points and image points from all the images.\n",
    "    objpoints = [] # 3d points in real world space\n",
    "    imgpoints = [] # 2d points in image plane.\n",
    "\n",
    "    # Make a list of calibration images\n",
    "    images = glob.glob('camera_cal/calibration*.jpg')\n",
    "\n",
    "    # Step through the list and search for chessboard corners\n",
    "    for fname in images:\n",
    "        img = cv2.imread(fname)\n",
    "        gray = cv2.cvtColor(img,cv2.COLOR_BGR2GRAY)\n",
    "\n",
    "        # Find the chessboard corners\n",
    "        ret, corners = cv2.findChessboardCorners(gray, (9,6),None)\n",
    "\n",
    "        # If found, add object points, image points\n",
    "        if ret == True:\n",
    "            objpoints.append(objp)\n",
    "            imgpoints.append(corners)\n",
    "            # Draw and display the corners\n",
    "            img = cv2.drawChessboardCorners(img, (9,6), corners, ret)\n",
    "            #store every images with detected corners for post analyse and writeup\n",
    "            img_dir = 'output_images/chessboard_corners/'\n",
    "            img_path = img_dir + fname.split('/')[-1]\n",
    "            store_image(img, img_dir, img_path)\n",
    "    #calibrate camera with identified objpoints and imgpoints\n",
    "    img_size = (img.shape[1], img.shape[0])\n",
    "    return cv2.calibrateCamera(objpoints, imgpoints, img_size,None,None)\n",
    "\n",
    "# Edit this function to create your own pipeline.\n",
    "def pipeline(img, s_thresh=(170, 255), sx_thresh=(20, 100)):\n",
    "    img_copy = np.copy(img)\n",
    "    # Convert to HSV color space and separate the V channel\n",
    "    hsv = cv2.cvtColor(img_copy, cv2.COLOR_RGB2HLS).astype(np.float)\n",
    "    #hsv = cv2.cvtColor(img, cv2.COLOR_RGB2HSV).astype(np.float)\n",
    "    #l_channel = cv2.cvtColor(img, cv2.COLOR_BGR2GRAY) #hsv[:,:,1]\n",
    "    l_channel = hsv[:,:,1]\n",
    "    s_channel = hsv[:,:,2]\n",
    "    # Sobel x\n",
    "    sobelx = cv2.Sobel(l_channel, cv2.CV_64F, 1, 0) # Take the derivative in x\n",
    "    abs_sobelx = np.absolute(sobelx) # Absolute x derivative to accentuate lines away from horizontal\n",
    "    scaled_sobel = np.uint8(255*abs_sobelx/np.max(abs_sobelx))\n",
    "    \n",
    "    # Threshold x gradient\n",
    "    sxbinary = np.zeros_like(scaled_sobel)\n",
    "    sxbinary[(scaled_sobel >= sx_thresh[0]) & (scaled_sobel <= sx_thresh[1])] = 1\n",
    "    \n",
    "    # Threshold color channel\n",
    "    s_binary = np.zeros_like(s_channel)\n",
    "    s_binary[(s_channel >= s_thresh[0]) & (s_channel <= s_thresh[1])] = 1\n",
    "    # Stack each channel\n",
    "    # Note color_binary[:, :, 0] is all 0s, effectively an all black image. It might\n",
    "    # be beneficial to replace this channel with something else.\n",
    "    color_binary = np.dstack(( np.zeros_like(sxbinary), sxbinary, s_binary))\n",
    "    combined_binary = np.zeros_like(sxbinary)\n",
    "    combined_binary[(s_binary == 1) | (sxbinary == 1)] = 1\n",
    "    return combined_binary\n",
    "\n",
    "def transform(img, src, dst):\n",
    "    # Compute and apply perpective transform\n",
    "    #vertices = np.array([[(160,700), (570, 460),(740, 460), (1150,700)]], dtype=np.int32)\n",
    "    #cv2.polylines(img, vertices, 1, color=(255, 0, 0), thickness=2)\n",
    " \n",
    "    img_size = (img.shape[1], img.shape[0])\n",
    "    M = cv2.getPerspectiveTransform(src, dst)\n",
    "    warped = cv2.warpPerspective(img, M, img_size)  # keep same size as input image\n",
    "    \n",
    "    return warped\n",
    "\n",
    "def undistort(img):\n",
    "    return cv2.undistort(img, mtx, dist, None, mtx)\n",
    "    "
   ]
  },
  {
   "cell_type": "markdown",
   "metadata": {
    "deletable": true,
    "editable": true
   },
   "source": [
    "# Calibrate camera"
   ]
  },
  {
   "cell_type": "code",
   "execution_count": 18,
   "metadata": {
    "collapsed": true,
    "deletable": true,
    "editable": true
   },
   "outputs": [],
   "source": [
    "ret, mtx, dist, rvecs, tvecs = calibrate_camera()"
   ]
  },
  {
   "cell_type": "markdown",
   "metadata": {
    "deletable": true,
    "editable": true
   },
   "source": [
    "## Test pipeline on test images and store output"
   ]
  },
  {
   "cell_type": "code",
   "execution_count": 19,
   "metadata": {
    "collapsed": false,
    "deletable": true,
    "editable": true
   },
   "outputs": [
    {
     "name": "stdout",
     "output_type": "stream",
     "text": [
      "W: 1280 H: 720\n",
      "src: [[  572.79998779   468.        ]\n",
      " [  707.20001221   468.        ]\n",
      " [  224.           684.        ]\n",
      " [ 1056.           684.        ]]\n",
      "dst: [[  256.    18.]\n",
      " [ 1024.    18.]\n",
      " [  256.   702.]\n",
      " [ 1024.   702.]]\n"
     ]
    },
    {
     "data": {
      "text/plain": [
       "<matplotlib.text.Text at 0x7f2b8deb13c8>"
      ]
     },
     "execution_count": 19,
     "metadata": {},
     "output_type": "execute_result"
    }
   ],
   "source": [
    "# Make a list of calibration images\n",
    "images = glob.glob('test_images/*.jpg')\n",
    "#define area of interest\n",
    "#src = np.float32([[570,460],[740,460],[160,700],[1120,700]])\n",
    "#dst\n",
    "#dst = np.float32([[560,460],[750,460],[150,700],[1130,700]])\n",
    "img = cv2.imread('test_images/test1.jpg')\n",
    "W = img.shape[1]\n",
    "H = img.shape[0]\n",
    "\n",
    "print('W:', W, 'H:', H)\n",
    "\n",
    "# Source coordinates\n",
    "src = np.float32([[W * 0.4475, H * 0.65],\n",
    "                [W * 0.5525, H * 0.65],\n",
    "                [W * 0.175, H * 0.95],\n",
    "                [W * 0.825, H * 0.95]])\n",
    "print('src:', src)    \n",
    "# Destination coordinates\n",
    "dst = np.float32([[W * 0.2, H * 0.025],\n",
    "                [W * 0.8, H * 0.025],\n",
    "                [W * 0.2, H * 0.975],\n",
    "                [W * 0.8, H * 0.975]])\n",
    "print('dst:', dst)\n",
    "# process test images\n",
    "for fname in images:\n",
    "    img = cv2.imread(fname)\n",
    "    undist_img = undistort(img)\n",
    "    store_image(undist_img, 'output_images/undistorted/', fname)\n",
    "    binary_image = pipeline(undist_img)\n",
    "    store_image(binary_image*255, 'output_images/binary_images/', fname)\n",
    "    transformed = transform(binary_image, src, dst)\n",
    "    store_image(transformed*255, 'output_images/transformed_images/', fname)\n",
    "\n",
    "plt.figure(figsize=(12, 7))\n",
    "plt.subplot(2, 2, 1)\n",
    "plt.imshow(img)\n",
    "plt.title(\"Original Image\")\n",
    "plt.subplot(2, 2, 2)\n",
    "plt.imshow(undist_img)\n",
    "plt.title(\"Undistorted Image\")\n",
    "#img = cv2.imread('test_images/test1.jpg')\n",
    "plt.subplot(2, 2, 3)\n",
    "plt.imshow(binary_image*255)\n",
    "plt.title(\"Binary Image\")\n",
    "plt.subplot(2, 2, 4)\n",
    "plt.imshow(transformed*255)\n",
    "plt.title(\"Transformed Image\")\n",
    "#plt.savefig(\"readme_img/undist_img.jpg\")\n",
    "\n",
    "# Plot the result\n",
    "#f, (ax1, ax2) = plt.subplots(1, 2, figsize=(24, 9))\n",
    "#f.tight_layout()\n",
    "\n",
    "#ax1.imshow(img, cmap='gray')\n",
    "#ax1.set_title('Original Image', fontsize=40)\n",
    "\n",
    "#ax2.imshow(binary_image, cmap='gray')\n",
    "#ax2.set_title('Pipeline Result', fontsize=40)\n",
    "\n",
    "#plt.subplots_adjust(left=0., right=1, top=0.9, bottom=0.)\n",
    "    \n",
    "#show last image for 3 sec for immediate control\n",
    "#cv2.imshow('warped',warped)\n",
    "#cv2.waitKey(0)\n",
    "#cv2.destroyAllWindows()\n",
    "    \n"
   ]
  },
  {
   "cell_type": "code",
   "execution_count": null,
   "metadata": {
    "collapsed": true,
    "deletable": true,
    "editable": true
   },
   "outputs": [],
   "source": []
  }
 ],
 "metadata": {
  "anaconda-cloud": {},
  "kernelspec": {
   "display_name": "Python 3",
   "language": "python",
   "name": "python3"
  },
  "language_info": {
   "codemirror_mode": {
    "name": "ipython",
    "version": 3
   },
   "file_extension": ".py",
   "mimetype": "text/x-python",
   "name": "python",
   "nbconvert_exporter": "python",
   "pygments_lexer": "ipython3",
   "version": "3.5.2"
  },
  "widgets": {
   "state": {},
   "version": "1.1.2"
  }
 },
 "nbformat": 4,
 "nbformat_minor": 1
}
